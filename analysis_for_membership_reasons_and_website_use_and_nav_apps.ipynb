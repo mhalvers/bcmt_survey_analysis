{
 "cells": [
  {
   "cell_type": "markdown",
   "id": "tropical-cannon",
   "metadata": {},
   "source": [
    "The purpose of this notebook is to answer the questions put forth here:\n",
    "\n",
    "https://docs.google.com/document/d/1Tu8-XHeOP9LHn6BmkOEHk__p1JaFNdb6jCw2UQc-vA8/edit\n",
    "\n",
    "- Mark Halverson\n",
    "- Last updated: March 09, 2021"
   ]
  },
  {
   "cell_type": "code",
   "execution_count": null,
   "id": "qualified-skating",
   "metadata": {},
   "outputs": [],
   "source": [
    "import pandas as pd\n",
    "import numpy as np\n",
    "import matplotlib.pyplot as plt\n",
    "from survey_utils.change_column_names import change_column_names"
   ]
  },
  {
   "cell_type": "code",
   "execution_count": null,
   "id": "political-plaza",
   "metadata": {},
   "outputs": [],
   "source": [
    "df = pd.read_csv(\"data/BCMT Membership Survey Anonymized Responses.csv\")"
   ]
  },
  {
   "cell_type": "code",
   "execution_count": null,
   "id": "mature-unknown",
   "metadata": {},
   "outputs": [],
   "source": [
    "df = change_column_names(df)"
   ]
  },
  {
   "cell_type": "code",
   "execution_count": null,
   "id": "comfortable-victim",
   "metadata": {},
   "outputs": [],
   "source": [
    "# print out the column names\n",
    "#df.columns"
   ]
  },
  {
   "cell_type": "markdown",
   "id": "functional-silence",
   "metadata": {},
   "source": [
    "# Apply some string operations to fill gaps and ensure consistency in letter cases"
   ]
  },
  {
   "cell_type": "code",
   "execution_count": null,
   "id": "literary-office",
   "metadata": {},
   "outputs": [],
   "source": [
    "# lower case some of the responses\n",
    "df[\"activities\"] = df[\"activities\"].str.lower()\n",
    "df[\"primary activity\"] = df[\"primary activity\"].str.lower()\n",
    "df[\"membership reason\"] = df[\"membership reason\"].str.lower()\n",
    "df[\"bcmt.org use reason\"] = df[\"bcmt.org use reason\"].str.lower()\n",
    "df[\"mobile apps used\"] = df[\"mobile apps used\"].str.lower()"
   ]
  },
  {
   "cell_type": "code",
   "execution_count": null,
   "id": "inside-update",
   "metadata": {},
   "outputs": [],
   "source": [
    "# gap fill\n",
    "print(f'Website use reason has {df[\"bcmt.org use reason\"].isna().sum()} null values')\n",
    "print(f'Mobile apps used has {df[\"mobile apps used\"].isna().sum()} null values')\n",
    "print(f'Membership reason has {df[\"membership reason\"].isna().sum()} null values')\n",
    "\n",
    "df[\"bcmt.org use reason\"].fillna(\"no answer provided\", inplace=True)\n",
    "df[\"mobile apps used\"].fillna(\"no answer provided\", inplace=True)\n",
    "df[\"membership reason\"].fillna(\"no answer provided\", inplace=True)"
   ]
  },
  {
   "cell_type": "code",
   "execution_count": null,
   "id": "married-swift",
   "metadata": {},
   "outputs": [],
   "source": [
    "# fix up some compound words\n",
    "df[\"membership reason\"] = df[\"membership reason\"].str.replace(\"camp site\", \"campsite\", regex=False)\n",
    "df[\"bcmt.org use reason\"] = df[\"bcmt.org use reason\"].str.replace(\"kajak\", \"kayak\", regex=False)\n",
    "df[\"mobile apps used\"] = df[\"mobile apps used\"].str.replace(\"garmon\", \"garmin\", regex=False)"
   ]
  },
  {
   "cell_type": "markdown",
   "id": "later-yeast",
   "metadata": {},
   "source": [
    "# Now the analysis"
   ]
  },
  {
   "cell_type": "markdown",
   "id": "atomic-labor",
   "metadata": {},
   "source": [
    "__Create a mask to pick out members__"
   ]
  },
  {
   "cell_type": "code",
   "execution_count": null,
   "id": "cathedral-discharge",
   "metadata": {},
   "outputs": [],
   "source": [
    "is_member = ~df[\"membership duration\"].str.contains(\"not\")\n",
    "print(f\"{sum(is_member)} respondents report having a BCMT membership\")"
   ]
  },
  {
   "cell_type": "code",
   "execution_count": null,
   "id": "communist-configuration",
   "metadata": {},
   "outputs": [],
   "source": [
    "# subset the data for membership\n",
    "df_members = df.loc[is_member,:]\n",
    "df_members.shape"
   ]
  },
  {
   "cell_type": "code",
   "execution_count": null,
   "id": "rational-lightweight",
   "metadata": {},
   "outputs": [],
   "source": [
    "print(\"for how long have the members had a membership?\")\n",
    "df_members[\"membership duration\"].value_counts()"
   ]
  },
  {
   "cell_type": "markdown",
   "id": "anonymous-description",
   "metadata": {},
   "source": [
    "__How often do the words \"support\" and \"map\" appear in the responses for why people purchased a BCMT membership?__"
   ]
  },
  {
   "cell_type": "code",
   "execution_count": null,
   "id": "touched-puppy",
   "metadata": {},
   "outputs": [],
   "source": [
    "# print out 10 random reasons\n",
    "#df_members[\"membership reason\"].sample(10).to_list()"
   ]
  },
  {
   "cell_type": "code",
   "execution_count": null,
   "id": "equal-turning",
   "metadata": {},
   "outputs": [],
   "source": [
    "# count the number of times \"map\" occurs in the responses.\n",
    "# also create a flag that selects responses containing map\n",
    "n_map = df_members[\"membership reason\"].str.count(\"map\")\n",
    "has_map = n_map >= 1"
   ]
  },
  {
   "cell_type": "code",
   "execution_count": null,
   "id": "retained-incentive",
   "metadata": {},
   "outputs": [],
   "source": [
    "has_map.value_counts()"
   ]
  },
  {
   "cell_type": "code",
   "execution_count": null,
   "id": "afraid-reservation",
   "metadata": {},
   "outputs": [],
   "source": [
    "#df_members.loc[has_map,\"membership reason\"].to_list()"
   ]
  },
  {
   "cell_type": "code",
   "execution_count": null,
   "id": "great-emission",
   "metadata": {},
   "outputs": [],
   "source": [
    "n_support = df_members[\"membership reason\"].str.count(\"support\")\n",
    "has_support = n_support >= 1"
   ]
  },
  {
   "cell_type": "code",
   "execution_count": null,
   "id": "instant-filter",
   "metadata": {},
   "outputs": [],
   "source": [
    "#df_members.loc[has_support,\"membership reason\"].sample(25).to_list()"
   ]
  },
  {
   "cell_type": "code",
   "execution_count": null,
   "id": "digital-israeli",
   "metadata": {},
   "outputs": [],
   "source": [
    "# a few basic stats\n",
    "print(f\"Percentage of members mentioning \\\"map\\\": {np.round(100*sum(has_map)/df_members.shape[0],1)}%\")\n",
    "print(f\"Percentage of members mentioning \\\"support\\\": {np.round(100*sum(has_support)/df_members.shape[0],1)}%\")"
   ]
  },
  {
   "cell_type": "markdown",
   "id": "distributed-swaziland",
   "metadata": {},
   "source": [
    "__How often do the words map, resources, information, trip planning, ideas appear in the responses for why people use BCMT.org?__"
   ]
  },
  {
   "cell_type": "code",
   "execution_count": null,
   "id": "humanitarian-democracy",
   "metadata": {},
   "outputs": [],
   "source": [
    "#df.columns"
   ]
  },
  {
   "cell_type": "code",
   "execution_count": null,
   "id": "middle-local",
   "metadata": {},
   "outputs": [],
   "source": [
    "#print(\"Example of reasons why respondents used the BCMT website\")\n",
    "#df[\"bcmt.org use reason\"].sample(20).to_list()"
   ]
  },
  {
   "cell_type": "markdown",
   "id": "viral-pierce",
   "metadata": {},
   "source": [
    "__Create a series of masks representing which responses contain words of interest__"
   ]
  },
  {
   "cell_type": "code",
   "execution_count": null,
   "id": "nasty-jewel",
   "metadata": {},
   "outputs": [],
   "source": [
    "strs = [\"map\",\"resource\",\"info\",\"plan\",\"idea\"]\n",
    "\n",
    "uses = pd.Series(index=strs, dtype=float)\n",
    "uses.name = \"percent_responses\"\n",
    "for str in strs:\n",
    "    has_str = df[\"bcmt.org use reason\"].str.contains(str, case=False)\n",
    "    uses[str] = 100*has_str.sum()/has_str.shape[0]\n",
    "    print(f'Percentage of bcmt.org uses mentioning \"{str.title()}\": {np.round(100*has_str.sum()/has_str.shape[0],1)}%')"
   ]
  },
  {
   "cell_type": "code",
   "execution_count": null,
   "id": "secure-anaheim",
   "metadata": {},
   "outputs": [],
   "source": [
    "uses.sort_values(ascending=True).plot.barh();\n",
    "plt.title(\"Reasons cited for using bcmt.org\")\n",
    "plt.xlabel(\"Percentage of responses containing string\");"
   ]
  },
  {
   "cell_type": "markdown",
   "id": "opponent-friendly",
   "metadata": {},
   "source": [
    "__How often do the words Google map, Windy, Navionics, Aquamaps, Tides, Current atlas, Gaia, Strava, Predict Wind, Garmin, and \"No\" appear in the responses for which mobile apps people use?__"
   ]
  },
  {
   "cell_type": "code",
   "execution_count": null,
   "id": "orange-transparency",
   "metadata": {},
   "outputs": [],
   "source": [
    "#df[\"mobile apps used\"].to_list()"
   ]
  },
  {
   "cell_type": "code",
   "execution_count": null,
   "id": "affected-garage",
   "metadata": {},
   "outputs": [],
   "source": [
    "strs = [\"google\",\"windy\",\"navionics\",\"aquamaps\",\"tides\",\"atlas\",\"gaia\",\"strava\",\"predict wind\",\"garmin\",\"no\",\"no answer provided\"]\n",
    "\n",
    "uses = pd.Series(index=strs, dtype=float)\n",
    "uses.name = \"percent_responses\"\n",
    "for str in strs:\n",
    "    has_str = df[\"mobile apps used\"].str.contains(str, case=False)\n",
    "    uses[str] = 100*has_str.sum()/has_str.shape[0]\n",
    "    print(f'Percentage of responses containing \"{str.title()}\": {np.round(100*has_str.sum()/has_str.shape[0],1)}%')"
   ]
  },
  {
   "cell_type": "code",
   "execution_count": null,
   "id": "exempt-breakdown",
   "metadata": {},
   "outputs": [],
   "source": [
    "# \"title-ize\" the app names\n",
    "uses.index = uses.index.str.title()"
   ]
  },
  {
   "cell_type": "code",
   "execution_count": null,
   "id": "processed-exhibition",
   "metadata": {},
   "outputs": [],
   "source": [
    "uses.sort_values(ascending=True).plot.barh();\n",
    "plt.title(\"App names cited by survey respondents\")\n",
    "plt.xlabel(\"Percentage of responses containing string\");"
   ]
  },
  {
   "cell_type": "markdown",
   "id": "embedded-eleven",
   "metadata": {},
   "source": [
    "-------------------------------"
   ]
  },
  {
   "cell_type": "markdown",
   "id": "painted-salem",
   "metadata": {},
   "source": [
    "## What are the characteristics of the respondents to cite “support”, “contribute“, “help” as a membership reason?  \n",
    "\n",
    "Age group, Membership length"
   ]
  },
  {
   "cell_type": "code",
   "execution_count": null,
   "id": "intelligent-financing",
   "metadata": {},
   "outputs": [],
   "source": [
    "#df[\"membership reason\"].head(10).to_list()"
   ]
  },
  {
   "cell_type": "code",
   "execution_count": null,
   "id": "opponent-commonwealth",
   "metadata": {},
   "outputs": [],
   "source": [
    "matches = [\"support\",\"contribute\",\"help\"]\n",
    "matches = \"|\".join(matches)\n",
    "matches"
   ]
  },
  {
   "cell_type": "code",
   "execution_count": null,
   "id": "crude-panic",
   "metadata": {},
   "outputs": [],
   "source": [
    "mask = df[\"membership reason\"].str.contains(matches, regex=True)\n",
    "mask.sum()"
   ]
  },
  {
   "cell_type": "code",
   "execution_count": null,
   "id": "heavy-cannon",
   "metadata": {},
   "outputs": [],
   "source": [
    "#df.columns"
   ]
  },
  {
   "cell_type": "code",
   "execution_count": null,
   "id": "general-month",
   "metadata": {},
   "outputs": [],
   "source": [
    "n_support = df.loc[mask].groupby(by=[\"age group\",\"membership duration\"]).count()[\"timestamp\"].sort_values(ascending=False)\n",
    "n_support.name = \"number citing support\""
   ]
  },
  {
   "cell_type": "code",
   "execution_count": null,
   "id": "supposed-israel",
   "metadata": {},
   "outputs": [],
   "source": [
    "n_total = df.groupby(by=[\"age group\",\"membership duration\"]).count()[\"timestamp\"].sort_values(ascending=False)\n",
    "n_total.name = \"total number\""
   ]
  },
  {
   "cell_type": "code",
   "execution_count": null,
   "id": "involved-traffic",
   "metadata": {},
   "outputs": [],
   "source": [
    "support_df = pd.concat([n_support, n_total], axis=1)"
   ]
  },
  {
   "cell_type": "code",
   "execution_count": null,
   "id": "unable-heritage",
   "metadata": {},
   "outputs": [],
   "source": [
    "support_df[\"as_percent\"] = 100*n_support/n_total"
   ]
  },
  {
   "cell_type": "code",
   "execution_count": null,
   "id": "instant-theology",
   "metadata": {},
   "outputs": [],
   "source": [
    "support_df[\"as_percent\"] = support_df[\"as_percent\"].round(1)"
   ]
  },
  {
   "cell_type": "code",
   "execution_count": null,
   "id": "behind-congo",
   "metadata": {},
   "outputs": [],
   "source": [
    "support_df.fillna(0, inplace=True)"
   ]
  },
  {
   "cell_type": "code",
   "execution_count": null,
   "id": "signal-darkness",
   "metadata": {},
   "outputs": [],
   "source": [
    "support_df[\"number citing support\"] = support_df[\"number citing support\"].astype(int)"
   ]
  },
  {
   "cell_type": "code",
   "execution_count": null,
   "id": "dietary-tyler",
   "metadata": {},
   "outputs": [],
   "source": [
    "support_df"
   ]
  },
  {
   "cell_type": "code",
   "execution_count": null,
   "id": "informal-attention",
   "metadata": {},
   "outputs": [],
   "source": [
    "support_df[\"as_percent\"].sort_values().plot.barh(figsize=(10,10));"
   ]
  },
  {
   "cell_type": "code",
   "execution_count": null,
   "id": "legendary-salem",
   "metadata": {},
   "outputs": [],
   "source": [
    "support_df.groupby(\"age group\").sum()[[\"number citing support\",\"total number\"]]"
   ]
  },
  {
   "cell_type": "code",
   "execution_count": null,
   "id": "downtown-brave",
   "metadata": {},
   "outputs": [],
   "source": [
    "support_df.groupby(\"membership duration\").sum()[[\"number citing support\",\"total number\"]]"
   ]
  },
  {
   "cell_type": "code",
   "execution_count": null,
   "id": "radical-glass",
   "metadata": {},
   "outputs": [],
   "source": [
    "df.loc[mask,\"age group\"].value_counts()/df[\"age group\"].value_counts()"
   ]
  },
  {
   "cell_type": "markdown",
   "id": "applied-google",
   "metadata": {},
   "source": [
    "## What are the characteristics of those who mentioned using “windy”, “Navionics”, “Tides”, “No”, or “null?\n",
    "\n",
    "Age group, years experience"
   ]
  },
  {
   "cell_type": "code",
   "execution_count": null,
   "id": "improving-vegetable",
   "metadata": {},
   "outputs": [],
   "source": [
    "#df[\"mobile apps used\"]\n",
    "#df.columns"
   ]
  },
  {
   "cell_type": "code",
   "execution_count": null,
   "id": "continuing-usage",
   "metadata": {},
   "outputs": [],
   "source": [
    "# select respondents to used the following apps:\n",
    "matches = [\"windy\",\"navionics\",\"tides\"]\n",
    "matches = \"|\".join(matches)\n",
    "matches"
   ]
  },
  {
   "cell_type": "code",
   "execution_count": null,
   "id": "norman-europe",
   "metadata": {},
   "outputs": [],
   "source": [
    "# select the respondents who did not use apps (or answer the question)\n",
    "matches = [\"no\",\"no answer provided\"]\n",
    "matches = \"|\".join(matches)\n",
    "matches"
   ]
  },
  {
   "cell_type": "code",
   "execution_count": null,
   "id": "acting-orange",
   "metadata": {},
   "outputs": [],
   "source": [
    "# select the respondents who use google\n",
    "matches = \"google\"\n",
    "matches"
   ]
  },
  {
   "cell_type": "code",
   "execution_count": null,
   "id": "portable-mystery",
   "metadata": {},
   "outputs": [],
   "source": [
    "mask = df[\"mobile apps used\"].str.contains(matches)\n",
    "mask.sum()"
   ]
  },
  {
   "cell_type": "code",
   "execution_count": null,
   "id": "dimensional-estate",
   "metadata": {},
   "outputs": [],
   "source": [
    "n_apps = df.loc[mask].groupby(by=[\"age group\",\"years experience\"]).count()[\"timestamp\"].sort_values(ascending=False)\n",
    "n_apps.name = \"number using apps\""
   ]
  },
  {
   "cell_type": "code",
   "execution_count": null,
   "id": "fifty-sheep",
   "metadata": {},
   "outputs": [],
   "source": [
    "n_total = df.groupby(by=[\"age group\",\"years experience\"]).count()[\"timestamp\"].sort_values(ascending=False)\n",
    "n_total.name = \"total number\""
   ]
  },
  {
   "cell_type": "code",
   "execution_count": null,
   "id": "referenced-sample",
   "metadata": {},
   "outputs": [],
   "source": [
    "apps_df = pd.concat([n_apps, n_total], axis=1)"
   ]
  },
  {
   "cell_type": "code",
   "execution_count": null,
   "id": "composite-newport",
   "metadata": {},
   "outputs": [],
   "source": [
    "apps_df[\"as_percent\"] = 100*n_apps/n_total"
   ]
  },
  {
   "cell_type": "code",
   "execution_count": null,
   "id": "pursuant-rebate",
   "metadata": {},
   "outputs": [],
   "source": [
    "apps_df[\"as_percent\"] = apps_df[\"as_percent\"].round(1)"
   ]
  },
  {
   "cell_type": "code",
   "execution_count": null,
   "id": "awful-catch",
   "metadata": {},
   "outputs": [],
   "source": [
    "apps_df.fillna(0, inplace=True)"
   ]
  },
  {
   "cell_type": "code",
   "execution_count": null,
   "id": "optimum-filling",
   "metadata": {},
   "outputs": [],
   "source": [
    "apps_df[\"number using apps\"] = apps_df[\"number using apps\"].astype(int)"
   ]
  },
  {
   "cell_type": "code",
   "execution_count": null,
   "id": "broke-debate",
   "metadata": {},
   "outputs": [],
   "source": [
    "apps_df"
   ]
  },
  {
   "cell_type": "code",
   "execution_count": null,
   "id": "together-rover",
   "metadata": {},
   "outputs": [],
   "source": [
    "apps_df.groupby(\"age group\").sum()[[\"number using apps\",\"total number\"]]"
   ]
  },
  {
   "cell_type": "code",
   "execution_count": null,
   "id": "twenty-block",
   "metadata": {},
   "outputs": [],
   "source": []
  },
  {
   "cell_type": "code",
   "execution_count": null,
   "id": "clean-qatar",
   "metadata": {},
   "outputs": [],
   "source": []
  },
  {
   "cell_type": "code",
   "execution_count": null,
   "id": "moved-citizen",
   "metadata": {},
   "outputs": [],
   "source": []
  },
  {
   "cell_type": "code",
   "execution_count": null,
   "id": "strategic-edmonton",
   "metadata": {},
   "outputs": [],
   "source": []
  },
  {
   "cell_type": "code",
   "execution_count": null,
   "id": "uniform-place",
   "metadata": {},
   "outputs": [],
   "source": []
  },
  {
   "cell_type": "code",
   "execution_count": null,
   "id": "wooden-trust",
   "metadata": {},
   "outputs": [],
   "source": [
    "# columns to explore\n",
    "columns = [\"age group\",\"gender\",\"membership duration\",\"years experience\",\"have volunteered\"]"
   ]
  },
  {
   "cell_type": "code",
   "execution_count": null,
   "id": "opposed-character",
   "metadata": {},
   "outputs": [],
   "source": [
    "# counts the occurrences of various quantities for those who cite support \n",
    "# as their reason to join the BCMT\n",
    "#for column in columns[0]:\n",
    "df_age_counts = df_support[columns[1]].value_counts()\n",
    "df_age_counts.name = \"total number\"\n",
    "df_age_counts"
   ]
  },
  {
   "cell_type": "code",
   "execution_count": null,
   "id": "ethical-reaction",
   "metadata": {},
   "outputs": [],
   "source": [
    "# counts the occurrences of various quantities for those who cite support \n",
    "# as their reason to join the BCMT\n",
    "for column in columns:\n",
    "    print(df_support[column].value_counts(), end=2*\"\\n\")"
   ]
  },
  {
   "cell_type": "code",
   "execution_count": null,
   "id": "metric-weight",
   "metadata": {},
   "outputs": [],
   "source": [
    "# counts the occurrences of various quantities for everyone in the survey\n",
    "for column in columns:\n",
    "    print(df[column].value_counts(), end=2*\"\\n\")"
   ]
  },
  {
   "cell_type": "code",
   "execution_count": null,
   "id": "statistical-facial",
   "metadata": {
    "scrolled": false
   },
   "outputs": [],
   "source": [
    "# the percentage of respondents cite support relative to all respondents, who cite support \n",
    "# as their reason to join the BCMT\n",
    "for column in columns:\n",
    "    tdf = df_support[column].value_counts()/df[column].value_counts()\n",
    "    print(100*tdf.sort_values(ascending=False).round(2), end=2*\"\\n\")"
   ]
  }
 ],
 "metadata": {
  "hide_input": false,
  "kernelspec": {
   "display_name": "Python 3",
   "language": "python",
   "name": "python3"
  },
  "language_info": {
   "codemirror_mode": {
    "name": "ipython",
    "version": 3
   },
   "file_extension": ".py",
   "mimetype": "text/x-python",
   "name": "python",
   "nbconvert_exporter": "python",
   "pygments_lexer": "ipython3",
   "version": "3.8.8"
  },
  "toc": {
   "base_numbering": 1,
   "nav_menu": {},
   "number_sections": true,
   "sideBar": true,
   "skip_h1_title": false,
   "title_cell": "Table of Contents",
   "title_sidebar": "Contents",
   "toc_cell": false,
   "toc_position": {},
   "toc_section_display": true,
   "toc_window_display": false
  }
 },
 "nbformat": 4,
 "nbformat_minor": 5
}
