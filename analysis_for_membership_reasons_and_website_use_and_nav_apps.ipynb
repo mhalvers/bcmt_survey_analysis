{
 "cells": [
  {
   "cell_type": "markdown",
   "id": "tropical-cannon",
   "metadata": {},
   "source": [
    "The purpose of this notebook is to answer the questions put forth here:\n",
    "\n",
    "https://docs.google.com/document/d/1Tu8-XHeOP9LHn6BmkOEHk__p1JaFNdb6jCw2UQc-vA8/edit\n",
    "\n",
    "- Mark Halverson\n",
    "- Last updated: March 09, 2021"
   ]
  },
  {
   "cell_type": "code",
   "execution_count": 1,
   "id": "qualified-skating",
   "metadata": {},
   "outputs": [],
   "source": [
    "import pandas as pd\n",
    "import numpy as np\n",
    "import matplotlib.pyplot as plt\n",
    "from survey_utils.change_column_names import change_column_names"
   ]
  },
  {
   "cell_type": "code",
   "execution_count": 2,
   "id": "political-plaza",
   "metadata": {},
   "outputs": [],
   "source": [
    "df = pd.read_csv(\"data/BCMT Membership Survey Anonymized Responses.csv\")"
   ]
  },
  {
   "cell_type": "code",
   "execution_count": 3,
   "id": "mature-unknown",
   "metadata": {},
   "outputs": [],
   "source": [
    "df = change_column_names(df)"
   ]
  },
  {
   "cell_type": "code",
   "execution_count": 4,
   "id": "comfortable-victim",
   "metadata": {},
   "outputs": [],
   "source": [
    "# print out the column names\n",
    "#df.columns"
   ]
  },
  {
   "cell_type": "markdown",
   "id": "functional-silence",
   "metadata": {},
   "source": [
    "# Apply some string operations to fill gaps and ensure consistency in letter cases"
   ]
  },
  {
   "cell_type": "code",
   "execution_count": 5,
   "id": "literary-office",
   "metadata": {},
   "outputs": [],
   "source": [
    "# lower case some of the responses\n",
    "df[\"activities\"] = df[\"activities\"].str.lower()\n",
    "df[\"primary activity\"] = df[\"primary activity\"].str.lower()\n",
    "df[\"membership reason\"] = df[\"membership reason\"].str.lower()\n",
    "df[\"bcmt.org use reason\"] = df[\"bcmt.org use reason\"].str.lower()\n",
    "df[\"mobile apps used\"] = df[\"mobile apps used\"].str.lower()"
   ]
  },
  {
   "cell_type": "code",
   "execution_count": 6,
   "id": "inside-update",
   "metadata": {},
   "outputs": [
    {
     "name": "stdout",
     "output_type": "stream",
     "text": [
      "Website use reason has 23 null values\n",
      "Mobile apps used has 67 null values\n",
      "Membership reason has 49 null values\n"
     ]
    }
   ],
   "source": [
    "# gap fill\n",
    "print(f'Website use reason has {df[\"bcmt.org use reason\"].isna().sum()} null values')\n",
    "print(f'Mobile apps used has {df[\"mobile apps used\"].isna().sum()} null values')\n",
    "print(f'Membership reason has {df[\"membership reason\"].isna().sum()} null values')\n",
    "\n",
    "df[\"bcmt.org use reason\"].fillna(\"no answer provided\", inplace=True)\n",
    "df[\"mobile apps used\"].fillna(\"no answer provided\", inplace=True)\n",
    "df[\"membership reason\"].fillna(\"no answer provided\", inplace=True)"
   ]
  },
  {
   "cell_type": "code",
   "execution_count": 7,
   "id": "married-swift",
   "metadata": {},
   "outputs": [],
   "source": [
    "# fix up some compound words\n",
    "df[\"membership reason\"] = df[\"membership reason\"].str.replace(\"camp site\", \"campsite\", regex=False)\n",
    "df[\"bcmt.org use reason\"] = df[\"bcmt.org use reason\"].str.replace(\"kajak\", \"kayak\", regex=False)\n",
    "df[\"mobile apps used\"] = df[\"mobile apps used\"].str.replace(\"garmon\", \"garmin\", regex=False)"
   ]
  },
  {
   "cell_type": "markdown",
   "id": "later-yeast",
   "metadata": {},
   "source": [
    "# Now the analysis"
   ]
  },
  {
   "cell_type": "markdown",
   "id": "atomic-labor",
   "metadata": {},
   "source": [
    "__Create a mask to pick out members__"
   ]
  },
  {
   "cell_type": "code",
   "execution_count": 8,
   "id": "cathedral-discharge",
   "metadata": {},
   "outputs": [
    {
     "name": "stdout",
     "output_type": "stream",
     "text": [
      "275 respondents report having a BCMT membership\n"
     ]
    }
   ],
   "source": [
    "is_member = ~df[\"membership duration\"].str.contains(\"not\")\n",
    "print(f\"{sum(is_member)} respondents report having a BCMT membership\")"
   ]
  },
  {
   "cell_type": "code",
   "execution_count": 9,
   "id": "communist-configuration",
   "metadata": {},
   "outputs": [
    {
     "data": {
      "text/plain": [
       "(275, 21)"
      ]
     },
     "execution_count": 9,
     "metadata": {},
     "output_type": "execute_result"
    }
   ],
   "source": [
    "# subset the data for membership\n",
    "df_members = df.loc[is_member,:]\n",
    "df_members.shape"
   ]
  },
  {
   "cell_type": "code",
   "execution_count": 10,
   "id": "rational-lightweight",
   "metadata": {},
   "outputs": [
    {
     "name": "stdout",
     "output_type": "stream",
     "text": [
      "for how long have the members had a membership?\n"
     ]
    },
    {
     "data": {
      "text/plain": [
       "2-3 years            113\n",
       "1 year or less        72\n",
       "4-5 years             60\n",
       "More than 5 years     30\n",
       "Name: membership duration, dtype: int64"
      ]
     },
     "execution_count": 10,
     "metadata": {},
     "output_type": "execute_result"
    }
   ],
   "source": [
    "print(\"for how long have the members had a membership?\")\n",
    "df_members[\"membership duration\"].value_counts()"
   ]
  },
  {
   "cell_type": "markdown",
   "id": "anonymous-description",
   "metadata": {},
   "source": [
    "__How often do the words \"support\" and \"map\" appear in the responses for why people purchased a BCMT membership?__"
   ]
  },
  {
   "cell_type": "code",
   "execution_count": 12,
   "id": "touched-puppy",
   "metadata": {},
   "outputs": [],
   "source": [
    "# print out 10 random reasons\n",
    "#df_members[\"membership reason\"].sample(10).to_list()"
   ]
  },
  {
   "cell_type": "code",
   "execution_count": 13,
   "id": "equal-turning",
   "metadata": {},
   "outputs": [],
   "source": [
    "# count the number of times \"map\" occurs in the responses.\n",
    "# also create a flag that selects responses containing map\n",
    "n_map = df_members[\"membership reason\"].str.count(\"map\")\n",
    "has_map = n_map >= 1"
   ]
  },
  {
   "cell_type": "code",
   "execution_count": 14,
   "id": "retained-incentive",
   "metadata": {},
   "outputs": [
    {
     "data": {
      "text/plain": [
       "False    223\n",
       "True      52\n",
       "Name: membership reason, dtype: int64"
      ]
     },
     "execution_count": 14,
     "metadata": {},
     "output_type": "execute_result"
    }
   ],
   "source": [
    "has_map.value_counts()"
   ]
  },
  {
   "cell_type": "code",
   "execution_count": 16,
   "id": "afraid-reservation",
   "metadata": {},
   "outputs": [],
   "source": [
    "#df_members.loc[has_map,\"membership reason\"].to_list()"
   ]
  },
  {
   "cell_type": "code",
   "execution_count": 17,
   "id": "great-emission",
   "metadata": {},
   "outputs": [],
   "source": [
    "n_support = df_members[\"membership reason\"].str.count(\"support\")\n",
    "has_support = n_support >= 1"
   ]
  },
  {
   "cell_type": "code",
   "execution_count": 19,
   "id": "instant-filter",
   "metadata": {},
   "outputs": [],
   "source": [
    "#df_members.loc[has_support,\"membership reason\"].sample(25).to_list()"
   ]
  },
  {
   "cell_type": "code",
   "execution_count": 20,
   "id": "digital-israeli",
   "metadata": {},
   "outputs": [
    {
     "name": "stdout",
     "output_type": "stream",
     "text": [
      "Percentage of members mentioning \"map\": 18.9%\n",
      "Percentage of members mentioning \"support\": 42.9%\n"
     ]
    }
   ],
   "source": [
    "# a few basic stats\n",
    "print(f\"Percentage of members mentioning \\\"map\\\": {np.round(100*sum(has_map)/df_members.shape[0],1)}%\")\n",
    "print(f\"Percentage of members mentioning \\\"support\\\": {np.round(100*sum(has_support)/df_members.shape[0],1)}%\")"
   ]
  },
  {
   "cell_type": "markdown",
   "id": "distributed-swaziland",
   "metadata": {},
   "source": [
    "__How often do the words map, resources, information, trip planning, ideas appear in the responses for why people use BCMT.org?__"
   ]
  },
  {
   "cell_type": "code",
   "execution_count": 24,
   "id": "humanitarian-democracy",
   "metadata": {},
   "outputs": [],
   "source": [
    "#df.columns"
   ]
  },
  {
   "cell_type": "code",
   "execution_count": 25,
   "id": "middle-local",
   "metadata": {},
   "outputs": [],
   "source": [
    "#print(\"Example of reasons why respondents used the BCMT website\")\n",
    "#df[\"bcmt.org use reason\"].sample(20).to_list()"
   ]
  },
  {
   "cell_type": "markdown",
   "id": "viral-pierce",
   "metadata": {},
   "source": [
    "__Create a series of masks representing which responses contain words of interest__"
   ]
  },
  {
   "cell_type": "code",
   "execution_count": 26,
   "id": "nasty-jewel",
   "metadata": {},
   "outputs": [
    {
     "name": "stdout",
     "output_type": "stream",
     "text": [
      "Percentage of bcmt.org uses mentioning \"Map\": 31.7%\n",
      "Percentage of bcmt.org uses mentioning \"Resource\": 1.2%\n",
      "Percentage of bcmt.org uses mentioning \"Info\": 20.9%\n",
      "Percentage of bcmt.org uses mentioning \"Plan\": 13.5%\n",
      "Percentage of bcmt.org uses mentioning \"Idea\": 2.5%\n"
     ]
    }
   ],
   "source": [
    "strs = [\"map\",\"resource\",\"info\",\"plan\",\"idea\"]\n",
    "\n",
    "uses = pd.Series(index=strs, dtype=float)\n",
    "uses.name = \"percent_responses\"\n",
    "for str in strs:\n",
    "    has_str = df[\"bcmt.org use reason\"].str.contains(str, case=False)\n",
    "    uses[str] = 100*has_str.sum()/has_str.shape[0]\n",
    "    print(f'Percentage of bcmt.org uses mentioning \"{str.title()}\": {np.round(100*has_str.sum()/has_str.shape[0],1)}%')"
   ]
  },
  {
   "cell_type": "code",
   "execution_count": 27,
   "id": "secure-anaheim",
   "metadata": {},
   "outputs": [
    {
     "data": {
      "image/png": "[encoded data removed]",
      "text/plain": [
       "<Figure size 432x288 with 1 Axes>"
      ]
     },
     "metadata": {
      "needs_background": "light"
     },
     "output_type": "display_data"
    }
   ],
   "source": [
    "uses.sort_values(ascending=True).plot.barh();\n",
    "plt.title(\"Reasons cited for using bcmt.org\")\n",
    "plt.xlabel(\"Percentage of responses containing string\");"
   ]
  },
  {
   "cell_type": "markdown",
   "id": "opponent-friendly",
   "metadata": {},
   "source": [
    "__How often do the words Google map, Windy, Navionics, Aquamaps, Tides, Current atlas, Gaia, Strava, Predict Wind, Garmin, and \"No\" appear in the responses for which mobile apps people use?__"
   ]
  },
  {
   "cell_type": "code",
   "execution_count": 30,
   "id": "orange-transparency",
   "metadata": {},
   "outputs": [],
   "source": [
    "#df[\"mobile apps used\"].to_list()"
   ]
  },
  {
   "cell_type": "code",
   "execution_count": 31,
   "id": "affected-garage",
   "metadata": {},
   "outputs": [
    {
     "name": "stdout",
     "output_type": "stream",
     "text": [
      "Percentage of responses containing \"Google\": 8.3%\n",
      "Percentage of responses containing \"Windy\": 15.1%\n",
      "Percentage of responses containing \"Navionics\": 13.2%\n",
      "Percentage of responses containing \"Aquamaps\": 1.2%\n",
      "Percentage of responses containing \"Tides\": 9.8%\n",
      "Percentage of responses containing \"Atlas\": 0.9%\n",
      "Percentage of responses containing \"Gaia\": 5.5%\n",
      "Percentage of responses containing \"Strava\": 1.8%\n",
      "Percentage of responses containing \"Predict Wind\": 1.5%\n",
      "Percentage of responses containing \"Garmin\": 5.2%\n",
      "Percentage of responses containing \"No\": 38.2%\n",
      "Percentage of responses containing \"No Answer Provided\": 20.6%\n"
     ]
    }
   ],
   "source": [
    "strs = [\"google\",\"windy\",\"navionics\",\"aquamaps\",\"tides\",\"atlas\",\"gaia\",\"strava\",\"predict wind\",\"garmin\",\"no\",\"no answer provided\"]\n",
    "\n",
    "uses = pd.Series(index=strs, dtype=float)\n",
    "uses.name = \"percent_responses\"\n",
    "for str in strs:\n",
    "    has_str = df[\"mobile apps used\"].str.contains(str, case=False)\n",
    "    uses[str] = 100*has_str.sum()/has_str.shape[0]\n",
    "    print(f'Percentage of responses containing \"{str.title()}\": {np.round(100*has_str.sum()/has_str.shape[0],1)}%')"
   ]
  },
  {
   "cell_type": "code",
   "execution_count": 32,
   "id": "exempt-breakdown",
   "metadata": {},
   "outputs": [],
   "source": [
    "# \"title-ize\" the app names\n",
    "uses.index = uses.index.str.title()"
   ]
  },
  {
   "cell_type": "code",
   "execution_count": 33,
   "id": "processed-exhibition",
   "metadata": {},
   "outputs": [
    {
     "data": {
      "image/png": "[encoded data removed]",
      "text/plain": [
       "<Figure size 432x288 with 1 Axes>"
      ]
     },
     "metadata": {
      "needs_background": "light"
     },
     "output_type": "display_data"
    }
   ],
   "source": [
    "uses.sort_values(ascending=True).plot.barh();\n",
    "plt.title(\"App names cited by survey respondents\")\n",
    "plt.xlabel(\"Percentage of responses containing string\");"
   ]
  },
  {
   "cell_type": "markdown",
   "id": "embedded-eleven",
   "metadata": {},
   "source": [
    "-------------------------------"
   ]
  },
  {
   "cell_type": "markdown",
   "id": "painted-salem",
   "metadata": {},
   "source": [
    "## What are the characteristics of the respondents to cite “support”, “contribute“, “help” as a membership reason?  \n",
    "\n",
    "Age group, Membership length"
   ]
  },
  {
   "cell_type": "code",
   "execution_count": 35,
   "id": "intelligent-financing",
   "metadata": {},
   "outputs": [],
   "source": [
    "#df[\"membership reason\"].head(10).to_list()"
   ]
  },
  {
   "cell_type": "code",
   "execution_count": 36,
   "id": "opponent-commonwealth",
   "metadata": {},
   "outputs": [
    {
     "data": {
      "text/plain": [
       "'support|contribute|help'"
      ]
     },
     "execution_count": 36,
     "metadata": {},
     "output_type": "execute_result"
    }
   ],
   "source": [
    "matches = [\"support\",\"contribute\",\"help\"]\n",
    "matches = \"|\".join(matches)\n",
    "matches"
   ]
  },
  {
   "cell_type": "code",
   "execution_count": 37,
   "id": "crude-panic",
   "metadata": {},
   "outputs": [
    {
     "data": {
      "text/plain": [
       "134"
      ]
     },
     "execution_count": 37,
     "metadata": {},
     "output_type": "execute_result"
    }
   ],
   "source": [
    "mask = df[\"membership reason\"].str.contains(matches, regex=True)\n",
    "mask.sum()"
   ]
  },
  {
   "cell_type": "code",
   "execution_count": 39,
   "id": "heavy-cannon",
   "metadata": {},
   "outputs": [],
   "source": [
    "#df.columns"
   ]
  },
  {
   "cell_type": "code",
   "execution_count": 40,
   "id": "general-month",
   "metadata": {},
   "outputs": [],
   "source": [
    "n_support = df.loc[mask].groupby(by=[\"age group\",\"membership duration\"]).count()[\"timestamp\"].sort_values(ascending=False)\n",
    "n_support.name = \"number citing support\""
   ]
  },
  {
   "cell_type": "code",
   "execution_count": 41,
   "id": "supposed-israel",
   "metadata": {},
   "outputs": [],
   "source": [
    "n_total = df.groupby(by=[\"age group\",\"membership duration\"]).count()[\"timestamp\"].sort_values(ascending=False)\n",
    "n_total.name = \"total number\""
   ]
  },
  {
   "cell_type": "code",
   "execution_count": 42,
   "id": "involved-traffic",
   "metadata": {},
   "outputs": [],
   "source": [
    "support_df = pd.concat([n_support, n_total], axis=1)"
   ]
  },
  {
   "cell_type": "code",
   "execution_count": 43,
   "id": "unable-heritage",
   "metadata": {},
   "outputs": [],
   "source": [
    "support_df[\"as_percent\"] = 100*n_support/n_total"
   ]
  },
  {
   "cell_type": "code",
   "execution_count": 44,
   "id": "instant-theology",
   "metadata": {},
   "outputs": [],
   "source": [
    "support_df[\"as_percent\"] = support_df[\"as_percent\"].round(1)"
   ]
  },
  {
   "cell_type": "code",
   "execution_count": 45,
   "id": "behind-congo",
   "metadata": {},
   "outputs": [],
   "source": [
    "support_df.fillna(0, inplace=True)"
   ]
  },
  {
   "cell_type": "code",
   "execution_count": 46,
   "id": "signal-darkness",
   "metadata": {},
   "outputs": [],
   "source": [
    "support_df[\"number citing support\"] = support_df[\"number citing support\"].astype(int)"
   ]
  },
  {
   "cell_type": "code",
   "execution_count": 47,
   "id": "dietary-tyler",
   "metadata": {},
   "outputs": [
    {
     "data": {
      "text/html": [
       "<div>\n",
       "<style scoped>\n",
       "    .dataframe tbody tr th:only-of-type {\n",
       "        vertical-align: middle;\n",
       "    }\n",
       "\n",
       "    .dataframe tbody tr th {\n",
       "        vertical-align: top;\n",
       "    }\n",
       "\n",
       "    .dataframe thead th {\n",
       "        text-align: right;\n",
       "    }\n",
       "</style>\n",
       "<table border=\"1\" class=\"dataframe\">\n",
       "  <thead>\n",
       "    <tr style=\"text-align: right;\">\n",
       "      <th></th>\n",
       "      <th></th>\n",
       "      <th>number citing support</th>\n",
       "      <th>total number</th>\n",
       "      <th>as_percent</th>\n",
       "    </tr>\n",
       "    <tr>\n",
       "      <th>age group</th>\n",
       "      <th>membership duration</th>\n",
       "      <th></th>\n",
       "      <th></th>\n",
       "      <th></th>\n",
       "    </tr>\n",
       "  </thead>\n",
       "  <tbody>\n",
       "    <tr>\n",
       "      <th rowspan=\"2\" valign=\"top\">18-24 years old</th>\n",
       "      <th>1 year or less</th>\n",
       "      <td>1</td>\n",
       "      <td>1</td>\n",
       "      <td>100.0</td>\n",
       "    </tr>\n",
       "    <tr>\n",
       "      <th>2-3 years</th>\n",
       "      <td>0</td>\n",
       "      <td>1</td>\n",
       "      <td>0.0</td>\n",
       "    </tr>\n",
       "    <tr>\n",
       "      <th rowspan=\"4\" valign=\"top\">25-34 years old</th>\n",
       "      <th>1 year or less</th>\n",
       "      <td>2</td>\n",
       "      <td>3</td>\n",
       "      <td>66.7</td>\n",
       "    </tr>\n",
       "    <tr>\n",
       "      <th>2-3 years</th>\n",
       "      <td>1</td>\n",
       "      <td>1</td>\n",
       "      <td>100.0</td>\n",
       "    </tr>\n",
       "    <tr>\n",
       "      <th>4-5 years</th>\n",
       "      <td>1</td>\n",
       "      <td>1</td>\n",
       "      <td>100.0</td>\n",
       "    </tr>\n",
       "    <tr>\n",
       "      <th>I'm not currently a member of BCMT</th>\n",
       "      <td>0</td>\n",
       "      <td>2</td>\n",
       "      <td>0.0</td>\n",
       "    </tr>\n",
       "    <tr>\n",
       "      <th rowspan=\"5\" valign=\"top\">35-44 years old</th>\n",
       "      <th>1 year or less</th>\n",
       "      <td>3</td>\n",
       "      <td>10</td>\n",
       "      <td>30.0</td>\n",
       "    </tr>\n",
       "    <tr>\n",
       "      <th>2-3 years</th>\n",
       "      <td>3</td>\n",
       "      <td>6</td>\n",
       "      <td>50.0</td>\n",
       "    </tr>\n",
       "    <tr>\n",
       "      <th>4-5 years</th>\n",
       "      <td>3</td>\n",
       "      <td>3</td>\n",
       "      <td>100.0</td>\n",
       "    </tr>\n",
       "    <tr>\n",
       "      <th>I'm not currently a member of BCMT</th>\n",
       "      <td>1</td>\n",
       "      <td>3</td>\n",
       "      <td>33.3</td>\n",
       "    </tr>\n",
       "    <tr>\n",
       "      <th>More than 5 years</th>\n",
       "      <td>2</td>\n",
       "      <td>2</td>\n",
       "      <td>100.0</td>\n",
       "    </tr>\n",
       "    <tr>\n",
       "      <th rowspan=\"5\" valign=\"top\">45-54 years old</th>\n",
       "      <th>1 year or less</th>\n",
       "      <td>7</td>\n",
       "      <td>13</td>\n",
       "      <td>53.8</td>\n",
       "    </tr>\n",
       "    <tr>\n",
       "      <th>2-3 years</th>\n",
       "      <td>9</td>\n",
       "      <td>17</td>\n",
       "      <td>52.9</td>\n",
       "    </tr>\n",
       "    <tr>\n",
       "      <th>4-5 years</th>\n",
       "      <td>3</td>\n",
       "      <td>6</td>\n",
       "      <td>50.0</td>\n",
       "    </tr>\n",
       "    <tr>\n",
       "      <th>I'm not currently a member of BCMT</th>\n",
       "      <td>0</td>\n",
       "      <td>10</td>\n",
       "      <td>0.0</td>\n",
       "    </tr>\n",
       "    <tr>\n",
       "      <th>More than 5 years</th>\n",
       "      <td>0</td>\n",
       "      <td>1</td>\n",
       "      <td>0.0</td>\n",
       "    </tr>\n",
       "    <tr>\n",
       "      <th rowspan=\"5\" valign=\"top\">55-64 years old</th>\n",
       "      <th>1 year or less</th>\n",
       "      <td>11</td>\n",
       "      <td>30</td>\n",
       "      <td>36.7</td>\n",
       "    </tr>\n",
       "    <tr>\n",
       "      <th>2-3 years</th>\n",
       "      <td>29</td>\n",
       "      <td>52</td>\n",
       "      <td>55.8</td>\n",
       "    </tr>\n",
       "    <tr>\n",
       "      <th>4-5 years</th>\n",
       "      <td>10</td>\n",
       "      <td>25</td>\n",
       "      <td>40.0</td>\n",
       "    </tr>\n",
       "    <tr>\n",
       "      <th>I'm not currently a member of BCMT</th>\n",
       "      <td>1</td>\n",
       "      <td>22</td>\n",
       "      <td>4.5</td>\n",
       "    </tr>\n",
       "    <tr>\n",
       "      <th>More than 5 years</th>\n",
       "      <td>7</td>\n",
       "      <td>11</td>\n",
       "      <td>63.6</td>\n",
       "    </tr>\n",
       "    <tr>\n",
       "      <th rowspan=\"5\" valign=\"top\">65+ years old</th>\n",
       "      <th>1 year or less</th>\n",
       "      <td>4</td>\n",
       "      <td>15</td>\n",
       "      <td>26.7</td>\n",
       "    </tr>\n",
       "    <tr>\n",
       "      <th>2-3 years</th>\n",
       "      <td>18</td>\n",
       "      <td>36</td>\n",
       "      <td>50.0</td>\n",
       "    </tr>\n",
       "    <tr>\n",
       "      <th>4-5 years</th>\n",
       "      <td>11</td>\n",
       "      <td>25</td>\n",
       "      <td>44.0</td>\n",
       "    </tr>\n",
       "    <tr>\n",
       "      <th>I'm not currently a member of BCMT</th>\n",
       "      <td>1</td>\n",
       "      <td>13</td>\n",
       "      <td>7.7</td>\n",
       "    </tr>\n",
       "    <tr>\n",
       "      <th>More than 5 years</th>\n",
       "      <td>5</td>\n",
       "      <td>15</td>\n",
       "      <td>33.3</td>\n",
       "    </tr>\n",
       "  </tbody>\n",
       "</table>\n",
       "</div>"
      ],
      "text/plain": [
       "                                                    number citing support  \\\n",
       "age group       membership duration                                         \n",
       "18-24 years old 1 year or less                                          1   \n",
       "                2-3 years                                               0   \n",
       "25-34 years old 1 year or less                                          2   \n",
       "                2-3 years                                               1   \n",
       "                4-5 years                                               1   \n",
       "                I'm not currently a member of BCMT                      0   \n",
       "35-44 years old 1 year or less                                          3   \n",
       "                2-3 years                                               3   \n",
       "                4-5 years                                               3   \n",
       "                I'm not currently a member of BCMT                      1   \n",
       "                More than 5 years                                       2   \n",
       "45-54 years old 1 year or less                                          7   \n",
       "                2-3 years                                               9   \n",
       "                4-5 years                                               3   \n",
       "                I'm not currently a member of BCMT                      0   \n",
       "                More than 5 years                                       0   \n",
       "55-64 years old 1 year or less                                         11   \n",
       "                2-3 years                                              29   \n",
       "                4-5 years                                              10   \n",
       "                I'm not currently a member of BCMT                      1   \n",
       "                More than 5 years                                       7   \n",
       "65+ years old   1 year or less                                          4   \n",
       "                2-3 years                                              18   \n",
       "                4-5 years                                              11   \n",
       "                I'm not currently a member of BCMT                      1   \n",
       "                More than 5 years                                       5   \n",
       "\n",
       "                                                    total number  as_percent  \n",
       "age group       membership duration                                           \n",
       "18-24 years old 1 year or less                                 1       100.0  \n",
       "                2-3 years                                      1         0.0  \n",
       "25-34 years old 1 year or less                                 3        66.7  \n",
       "                2-3 years                                      1       100.0  \n",
       "                4-5 years                                      1       100.0  \n",
       "                I'm not currently a member of BCMT             2         0.0  \n",
       "35-44 years old 1 year or less                                10        30.0  \n",
       "                2-3 years                                      6        50.0  \n",
       "                4-5 years                                      3       100.0  \n",
       "                I'm not currently a member of BCMT             3        33.3  \n",
       "                More than 5 years                              2       100.0  \n",
       "45-54 years old 1 year or less                                13        53.8  \n",
       "                2-3 years                                     17        52.9  \n",
       "                4-5 years                                      6        50.0  \n",
       "                I'm not currently a member of BCMT            10         0.0  \n",
       "                More than 5 years                              1         0.0  \n",
       "55-64 years old 1 year or less                                30        36.7  \n",
       "                2-3 years                                     52        55.8  \n",
       "                4-5 years                                     25        40.0  \n",
       "                I'm not currently a member of BCMT            22         4.5  \n",
       "                More than 5 years                             11        63.6  \n",
       "65+ years old   1 year or less                                15        26.7  \n",
       "                2-3 years                                     36        50.0  \n",
       "                4-5 years                                     25        44.0  \n",
       "                I'm not currently a member of BCMT            13         7.7  \n",
       "                More than 5 years                             15        33.3  "
      ]
     },
     "execution_count": 47,
     "metadata": {},
     "output_type": "execute_result"
    }
   ],
   "source": [
    "support_df"
   ]
  },
  {
   "cell_type": "code",
   "execution_count": 49,
   "id": "informal-attention",
   "metadata": {},
   "outputs": [
    {
     "data": {
      "image/png": "[encoded data removed]",
      "text/plain": [
       "<Figure size 720x720 with 1 Axes>"
      ]
     },
     "metadata": {
      "needs_background": "light"
     },
     "output_type": "display_data"
    }
   ],
   "source": [
    "support_df[\"as_percent\"].sort_values().plot.barh(figsize=(10,10));"
   ]
  },
  {
   "cell_type": "code",
   "execution_count": 50,
   "id": "legendary-salem",
   "metadata": {},
   "outputs": [
    {
     "data": {
      "text/html": [
       "<div>\n",
       "<style scoped>\n",
       "    .dataframe tbody tr th:only-of-type {\n",
       "        vertical-align: middle;\n",
       "    }\n",
       "\n",
       "    .dataframe tbody tr th {\n",
       "        vertical-align: top;\n",
       "    }\n",
       "\n",
       "    .dataframe thead th {\n",
       "        text-align: right;\n",
       "    }\n",
       "</style>\n",
       "<table border=\"1\" class=\"dataframe\">\n",
       "  <thead>\n",
       "    <tr style=\"text-align: right;\">\n",
       "      <th></th>\n",
       "      <th>number citing support</th>\n",
       "      <th>total number</th>\n",
       "    </tr>\n",
       "    <tr>\n",
       "      <th>age group</th>\n",
       "      <th></th>\n",
       "      <th></th>\n",
       "    </tr>\n",
       "  </thead>\n",
       "  <tbody>\n",
       "    <tr>\n",
       "      <th>18-24 years old</th>\n",
       "      <td>1</td>\n",
       "      <td>2</td>\n",
       "    </tr>\n",
       "    <tr>\n",
       "      <th>25-34 years old</th>\n",
       "      <td>4</td>\n",
       "      <td>7</td>\n",
       "    </tr>\n",
       "    <tr>\n",
       "      <th>35-44 years old</th>\n",
       "      <td>12</td>\n",
       "      <td>24</td>\n",
       "    </tr>\n",
       "    <tr>\n",
       "      <th>45-54 years old</th>\n",
       "      <td>19</td>\n",
       "      <td>47</td>\n",
       "    </tr>\n",
       "    <tr>\n",
       "      <th>55-64 years old</th>\n",
       "      <td>58</td>\n",
       "      <td>140</td>\n",
       "    </tr>\n",
       "    <tr>\n",
       "      <th>65+ years old</th>\n",
       "      <td>39</td>\n",
       "      <td>104</td>\n",
       "    </tr>\n",
       "  </tbody>\n",
       "</table>\n",
       "</div>"
      ],
      "text/plain": [
       "                 number citing support  total number\n",
       "age group                                           \n",
       "18-24 years old                      1             2\n",
       "25-34 years old                      4             7\n",
       "35-44 years old                     12            24\n",
       "45-54 years old                     19            47\n",
       "55-64 years old                     58           140\n",
       "65+ years old                       39           104"
      ]
     },
     "execution_count": 50,
     "metadata": {},
     "output_type": "execute_result"
    }
   ],
   "source": [
    "support_df.groupby(\"age group\").sum()[[\"number citing support\",\"total number\"]]"
   ]
  },
  {
   "cell_type": "code",
   "execution_count": 51,
   "id": "downtown-brave",
   "metadata": {},
   "outputs": [
    {
     "data": {
      "text/html": [
       "<div>\n",
       "<style scoped>\n",
       "    .dataframe tbody tr th:only-of-type {\n",
       "        vertical-align: middle;\n",
       "    }\n",
       "\n",
       "    .dataframe tbody tr th {\n",
       "        vertical-align: top;\n",
       "    }\n",
       "\n",
       "    .dataframe thead th {\n",
       "        text-align: right;\n",
       "    }\n",
       "</style>\n",
       "<table border=\"1\" class=\"dataframe\">\n",
       "  <thead>\n",
       "    <tr style=\"text-align: right;\">\n",
       "      <th></th>\n",
       "      <th>number citing support</th>\n",
       "      <th>total number</th>\n",
       "    </tr>\n",
       "    <tr>\n",
       "      <th>membership duration</th>\n",
       "      <th></th>\n",
       "      <th></th>\n",
       "    </tr>\n",
       "  </thead>\n",
       "  <tbody>\n",
       "    <tr>\n",
       "      <th>1 year or less</th>\n",
       "      <td>28</td>\n",
       "      <td>72</td>\n",
       "    </tr>\n",
       "    <tr>\n",
       "      <th>2-3 years</th>\n",
       "      <td>60</td>\n",
       "      <td>113</td>\n",
       "    </tr>\n",
       "    <tr>\n",
       "      <th>4-5 years</th>\n",
       "      <td>28</td>\n",
       "      <td>60</td>\n",
       "    </tr>\n",
       "    <tr>\n",
       "      <th>I'm not currently a member of BCMT</th>\n",
       "      <td>3</td>\n",
       "      <td>50</td>\n",
       "    </tr>\n",
       "    <tr>\n",
       "      <th>More than 5 years</th>\n",
       "      <td>14</td>\n",
       "      <td>29</td>\n",
       "    </tr>\n",
       "  </tbody>\n",
       "</table>\n",
       "</div>"
      ],
      "text/plain": [
       "                                    number citing support  total number\n",
       "membership duration                                                    \n",
       "1 year or less                                         28            72\n",
       "2-3 years                                              60           113\n",
       "4-5 years                                              28            60\n",
       "I'm not currently a member of BCMT                      3            50\n",
       "More than 5 years                                      14            29"
      ]
     },
     "execution_count": 51,
     "metadata": {},
     "output_type": "execute_result"
    }
   ],
   "source": [
    "support_df.groupby(\"membership duration\").sum()[[\"number citing support\",\"total number\"]]"
   ]
  },
  {
   "cell_type": "code",
   "execution_count": 52,
   "id": "radical-glass",
   "metadata": {},
   "outputs": [
    {
     "data": {
      "text/plain": [
       "55-64 years old    0.414286\n",
       "65+ years old      0.375000\n",
       "45-54 years old    0.404255\n",
       "35-44 years old    0.500000\n",
       "25-34 years old    0.571429\n",
       "18-24 years old    0.500000\n",
       "Name: age group, dtype: float64"
      ]
     },
     "execution_count": 52,
     "metadata": {},
     "output_type": "execute_result"
    }
   ],
   "source": [
    "df.loc[mask,\"age group\"].value_counts()/df[\"age group\"].value_counts()"
   ]
  },
  {
   "cell_type": "markdown",
   "id": "applied-google",
   "metadata": {},
   "source": [
    "## What are the characteristics of those who mentioned using “windy”, “Navionics”, “Tides”, “No”, or “null?\n",
    "\n",
    "Age group, years experience"
   ]
  },
  {
   "cell_type": "code",
   "execution_count": 84,
   "id": "improving-vegetable",
   "metadata": {},
   "outputs": [
    {
     "data": {
      "text/plain": [
       "Index(['timestamp', 'activities', 'primary activity', 'years experience',\n",
       "       'activity frequency', 'activity duration', 'group size',\n",
       "       'membership duration', 'membership reason', 'have volunteered',\n",
       "       'volunteer activities', 'used bcmt map', 'bcmt map frequency',\n",
       "       'bcmt.org use reason', 'mobile apps used', 'submitted scr',\n",
       "       'scr report frequency', 'gender', 'age group', 'location', 'email'],\n",
       "      dtype='object')"
      ]
     },
     "execution_count": 84,
     "metadata": {},
     "output_type": "execute_result"
    }
   ],
   "source": [
    "#df[\"mobile apps used\"]\n",
    "df.columns"
   ]
  },
  {
   "cell_type": "code",
   "execution_count": 85,
   "id": "continuing-usage",
   "metadata": {},
   "outputs": [
    {
     "data": {
      "text/plain": [
       "'windy|navionics|tides'"
      ]
     },
     "execution_count": 85,
     "metadata": {},
     "output_type": "execute_result"
    }
   ],
   "source": [
    "matches = [\"windy\",\"navionics\",\"tides\"]\n",
    "matches = \"|\".join(matches)\n",
    "matches"
   ]
  },
  {
   "cell_type": "code",
   "execution_count": 98,
   "id": "norman-europe",
   "metadata": {},
   "outputs": [
    {
     "data": {
      "text/plain": [
       "'no|no answer provided'"
      ]
     },
     "execution_count": 98,
     "metadata": {},
     "output_type": "execute_result"
    }
   ],
   "source": [
    "matches = [\"no\",\"no answer provided\"]\n",
    "matches = \"|\".join(matches)\n",
    "matches"
   ]
  },
  {
   "cell_type": "code",
   "execution_count": 99,
   "id": "crude-panic",
   "metadata": {},
   "outputs": [
    {
     "data": {
      "text/plain": [
       "124"
      ]
     },
     "execution_count": 99,
     "metadata": {},
     "output_type": "execute_result"
    }
   ],
   "source": [
    "mask = df[\"mobile apps used\"].str.contains(matches, regex=True)\n",
    "mask.sum()"
   ]
  },
  {
   "cell_type": "code",
   "execution_count": 100,
   "id": "dimensional-estate",
   "metadata": {},
   "outputs": [],
   "source": [
    "n_apps = df.loc[mask].groupby(by=[\"age group\",\"years experience\"]).count()[\"timestamp\"].sort_values(ascending=False)\n",
    "n_apps.name = \"number using apps\""
   ]
  },
  {
   "cell_type": "code",
   "execution_count": 101,
   "id": "fifty-sheep",
   "metadata": {},
   "outputs": [],
   "source": [
    "n_total = df.groupby(by=[\"age group\",\"years experience\"]).count()[\"timestamp\"].sort_values(ascending=False)\n",
    "n_total.name = \"total number\""
   ]
  },
  {
   "cell_type": "code",
   "execution_count": 102,
   "id": "referenced-sample",
   "metadata": {},
   "outputs": [],
   "source": [
    "apps_df = pd.concat([n_apps, n_total], axis=1)"
   ]
  },
  {
   "cell_type": "code",
   "execution_count": 103,
   "id": "composite-newport",
   "metadata": {},
   "outputs": [],
   "source": [
    "apps_df[\"as_percent\"] = 100*n_apps/n_total"
   ]
  },
  {
   "cell_type": "code",
   "execution_count": 104,
   "id": "pursuant-rebate",
   "metadata": {},
   "outputs": [],
   "source": [
    "apps_df[\"as_percent\"] = apps_df[\"as_percent\"].round(1)"
   ]
  },
  {
   "cell_type": "code",
   "execution_count": 105,
   "id": "awful-catch",
   "metadata": {},
   "outputs": [],
   "source": [
    "apps_df.fillna(0, inplace=True)"
   ]
  },
  {
   "cell_type": "code",
   "execution_count": 106,
   "id": "optimum-filling",
   "metadata": {},
   "outputs": [],
   "source": [
    "apps_df[\"number using apps\"] = apps_df[\"number using apps\"].astype(int)"
   ]
  },
  {
   "cell_type": "code",
   "execution_count": 107,
   "id": "broke-debate",
   "metadata": {},
   "outputs": [
    {
     "data": {
      "text/html": [
       "<div>\n",
       "<style scoped>\n",
       "    .dataframe tbody tr th:only-of-type {\n",
       "        vertical-align: middle;\n",
       "    }\n",
       "\n",
       "    .dataframe tbody tr th {\n",
       "        vertical-align: top;\n",
       "    }\n",
       "\n",
       "    .dataframe thead th {\n",
       "        text-align: right;\n",
       "    }\n",
       "</style>\n",
       "<table border=\"1\" class=\"dataframe\">\n",
       "  <thead>\n",
       "    <tr style=\"text-align: right;\">\n",
       "      <th></th>\n",
       "      <th></th>\n",
       "      <th>number using apps</th>\n",
       "      <th>total number</th>\n",
       "      <th>as_percent</th>\n",
       "    </tr>\n",
       "    <tr>\n",
       "      <th>age group</th>\n",
       "      <th>years experience</th>\n",
       "      <th></th>\n",
       "      <th></th>\n",
       "      <th></th>\n",
       "    </tr>\n",
       "  </thead>\n",
       "  <tbody>\n",
       "    <tr>\n",
       "      <th rowspan=\"2\" valign=\"top\">18-24 years old</th>\n",
       "      <th>5-8 years</th>\n",
       "      <td>1</td>\n",
       "      <td>1</td>\n",
       "      <td>100.0</td>\n",
       "    </tr>\n",
       "    <tr>\n",
       "      <th>less than 1 year</th>\n",
       "      <td>1</td>\n",
       "      <td>1</td>\n",
       "      <td>100.0</td>\n",
       "    </tr>\n",
       "    <tr>\n",
       "      <th rowspan=\"4\" valign=\"top\">25-34 years old</th>\n",
       "      <th>1-2 years</th>\n",
       "      <td>0</td>\n",
       "      <td>3</td>\n",
       "      <td>0.0</td>\n",
       "    </tr>\n",
       "    <tr>\n",
       "      <th>5-8 years</th>\n",
       "      <td>0</td>\n",
       "      <td>2</td>\n",
       "      <td>0.0</td>\n",
       "    </tr>\n",
       "    <tr>\n",
       "      <th>9+ years</th>\n",
       "      <td>1</td>\n",
       "      <td>1</td>\n",
       "      <td>100.0</td>\n",
       "    </tr>\n",
       "    <tr>\n",
       "      <th>less than 1 year</th>\n",
       "      <td>1</td>\n",
       "      <td>1</td>\n",
       "      <td>100.0</td>\n",
       "    </tr>\n",
       "    <tr>\n",
       "      <th rowspan=\"4\" valign=\"top\">35-44 years old</th>\n",
       "      <th>1-2 years</th>\n",
       "      <td>0</td>\n",
       "      <td>4</td>\n",
       "      <td>0.0</td>\n",
       "    </tr>\n",
       "    <tr>\n",
       "      <th>3-4 years</th>\n",
       "      <td>3</td>\n",
       "      <td>4</td>\n",
       "      <td>75.0</td>\n",
       "    </tr>\n",
       "    <tr>\n",
       "      <th>5-8 years</th>\n",
       "      <td>3</td>\n",
       "      <td>8</td>\n",
       "      <td>37.5</td>\n",
       "    </tr>\n",
       "    <tr>\n",
       "      <th>9+ years</th>\n",
       "      <td>3</td>\n",
       "      <td>8</td>\n",
       "      <td>37.5</td>\n",
       "    </tr>\n",
       "    <tr>\n",
       "      <th rowspan=\"5\" valign=\"top\">45-54 years old</th>\n",
       "      <th>1-2 years</th>\n",
       "      <td>0</td>\n",
       "      <td>3</td>\n",
       "      <td>0.0</td>\n",
       "    </tr>\n",
       "    <tr>\n",
       "      <th>3-4 years</th>\n",
       "      <td>0</td>\n",
       "      <td>9</td>\n",
       "      <td>0.0</td>\n",
       "    </tr>\n",
       "    <tr>\n",
       "      <th>5-8 years</th>\n",
       "      <td>0</td>\n",
       "      <td>9</td>\n",
       "      <td>0.0</td>\n",
       "    </tr>\n",
       "    <tr>\n",
       "      <th>9+ years</th>\n",
       "      <td>11</td>\n",
       "      <td>25</td>\n",
       "      <td>44.0</td>\n",
       "    </tr>\n",
       "    <tr>\n",
       "      <th>less than 1 year</th>\n",
       "      <td>1</td>\n",
       "      <td>1</td>\n",
       "      <td>100.0</td>\n",
       "    </tr>\n",
       "    <tr>\n",
       "      <th rowspan=\"5\" valign=\"top\">55-64 years old</th>\n",
       "      <th>1-2 years</th>\n",
       "      <td>1</td>\n",
       "      <td>2</td>\n",
       "      <td>50.0</td>\n",
       "    </tr>\n",
       "    <tr>\n",
       "      <th>3-4 years</th>\n",
       "      <td>4</td>\n",
       "      <td>14</td>\n",
       "      <td>28.6</td>\n",
       "    </tr>\n",
       "    <tr>\n",
       "      <th>5-8 years</th>\n",
       "      <td>7</td>\n",
       "      <td>14</td>\n",
       "      <td>50.0</td>\n",
       "    </tr>\n",
       "    <tr>\n",
       "      <th>9+ years</th>\n",
       "      <td>48</td>\n",
       "      <td>109</td>\n",
       "      <td>44.0</td>\n",
       "    </tr>\n",
       "    <tr>\n",
       "      <th>less than 1 year</th>\n",
       "      <td>0</td>\n",
       "      <td>1</td>\n",
       "      <td>0.0</td>\n",
       "    </tr>\n",
       "    <tr>\n",
       "      <th rowspan=\"4\" valign=\"top\">65+ years old</th>\n",
       "      <th>1-2 years</th>\n",
       "      <td>1</td>\n",
       "      <td>1</td>\n",
       "      <td>100.0</td>\n",
       "    </tr>\n",
       "    <tr>\n",
       "      <th>3-4 years</th>\n",
       "      <td>1</td>\n",
       "      <td>7</td>\n",
       "      <td>14.3</td>\n",
       "    </tr>\n",
       "    <tr>\n",
       "      <th>5-8 years</th>\n",
       "      <td>2</td>\n",
       "      <td>12</td>\n",
       "      <td>16.7</td>\n",
       "    </tr>\n",
       "    <tr>\n",
       "      <th>9+ years</th>\n",
       "      <td>35</td>\n",
       "      <td>84</td>\n",
       "      <td>41.7</td>\n",
       "    </tr>\n",
       "  </tbody>\n",
       "</table>\n",
       "</div>"
      ],
      "text/plain": [
       "                                  number using apps  total number  as_percent\n",
       "age group       years experience                                             \n",
       "18-24 years old 5-8 years                         1             1       100.0\n",
       "                less than 1 year                  1             1       100.0\n",
       "25-34 years old 1-2 years                         0             3         0.0\n",
       "                5-8 years                         0             2         0.0\n",
       "                9+ years                          1             1       100.0\n",
       "                less than 1 year                  1             1       100.0\n",
       "35-44 years old 1-2 years                         0             4         0.0\n",
       "                3-4 years                         3             4        75.0\n",
       "                5-8 years                         3             8        37.5\n",
       "                9+ years                          3             8        37.5\n",
       "45-54 years old 1-2 years                         0             3         0.0\n",
       "                3-4 years                         0             9         0.0\n",
       "                5-8 years                         0             9         0.0\n",
       "                9+ years                         11            25        44.0\n",
       "                less than 1 year                  1             1       100.0\n",
       "55-64 years old 1-2 years                         1             2        50.0\n",
       "                3-4 years                         4            14        28.6\n",
       "                5-8 years                         7            14        50.0\n",
       "                9+ years                         48           109        44.0\n",
       "                less than 1 year                  0             1         0.0\n",
       "65+ years old   1-2 years                         1             1       100.0\n",
       "                3-4 years                         1             7        14.3\n",
       "                5-8 years                         2            12        16.7\n",
       "                9+ years                         35            84        41.7"
      ]
     },
     "execution_count": 107,
     "metadata": {},
     "output_type": "execute_result"
    }
   ],
   "source": [
    "apps_df"
   ]
  },
  {
   "cell_type": "code",
   "execution_count": null,
   "id": "together-rover",
   "metadata": {},
   "outputs": [],
   "source": []
  },
  {
   "cell_type": "code",
   "execution_count": null,
   "id": "twenty-block",
   "metadata": {},
   "outputs": [],
   "source": []
  },
  {
   "cell_type": "code",
   "execution_count": null,
   "id": "clean-qatar",
   "metadata": {},
   "outputs": [],
   "source": []
  },
  {
   "cell_type": "code",
   "execution_count": null,
   "id": "moved-citizen",
   "metadata": {},
   "outputs": [],
   "source": []
  },
  {
   "cell_type": "code",
   "execution_count": null,
   "id": "strategic-edmonton",
   "metadata": {},
   "outputs": [],
   "source": []
  },
  {
   "cell_type": "code",
   "execution_count": null,
   "id": "uniform-place",
   "metadata": {},
   "outputs": [],
   "source": []
  },
  {
   "cell_type": "code",
   "execution_count": 53,
   "id": "wooden-trust",
   "metadata": {},
   "outputs": [],
   "source": [
    "# columns to explore\n",
    "columns = [\"age group\",\"gender\",\"membership duration\",\"years experience\",\"have volunteered\"]"
   ]
  },
  {
   "cell_type": "code",
   "execution_count": 54,
   "id": "opposed-character",
   "metadata": {},
   "outputs": [
    {
     "ename": "NameError",
     "evalue": "name 'df_support' is not defined",
     "output_type": "error",
     "traceback": [
      "\u001b[0;31m---------------------------------------------------------------------------\u001b[0m",
      "\u001b[0;31mNameError\u001b[0m                                 Traceback (most recent call last)",
      "\u001b[0;32m<ipython-input-54-842304ada286>\u001b[0m in \u001b[0;36m<module>\u001b[0;34m\u001b[0m\n\u001b[1;32m      2\u001b[0m \u001b[0;31m# as their reason to join the BCMT\u001b[0m\u001b[0;34m\u001b[0m\u001b[0;34m\u001b[0m\u001b[0;34m\u001b[0m\u001b[0m\n\u001b[1;32m      3\u001b[0m \u001b[0;31m#for column in columns[0]:\u001b[0m\u001b[0;34m\u001b[0m\u001b[0;34m\u001b[0m\u001b[0;34m\u001b[0m\u001b[0m\n\u001b[0;32m----> 4\u001b[0;31m \u001b[0mdf_age_counts\u001b[0m \u001b[0;34m=\u001b[0m \u001b[0mdf_support\u001b[0m\u001b[0;34m[\u001b[0m\u001b[0mcolumns\u001b[0m\u001b[0;34m[\u001b[0m\u001b[0;36m1\u001b[0m\u001b[0;34m]\u001b[0m\u001b[0;34m]\u001b[0m\u001b[0;34m.\u001b[0m\u001b[0mvalue_counts\u001b[0m\u001b[0;34m(\u001b[0m\u001b[0;34m)\u001b[0m\u001b[0;34m\u001b[0m\u001b[0;34m\u001b[0m\u001b[0m\n\u001b[0m\u001b[1;32m      5\u001b[0m \u001b[0mdf_age_counts\u001b[0m\u001b[0;34m.\u001b[0m\u001b[0mname\u001b[0m \u001b[0;34m=\u001b[0m \u001b[0;34m\"total number\"\u001b[0m\u001b[0;34m\u001b[0m\u001b[0;34m\u001b[0m\u001b[0m\n\u001b[1;32m      6\u001b[0m \u001b[0mdf_age_counts\u001b[0m\u001b[0;34m\u001b[0m\u001b[0;34m\u001b[0m\u001b[0m\n",
      "\u001b[0;31mNameError\u001b[0m: name 'df_support' is not defined"
     ]
    }
   ],
   "source": [
    "# counts the occurrences of various quantities for those who cite support \n",
    "# as their reason to join the BCMT\n",
    "#for column in columns[0]:\n",
    "df_age_counts = df_support[columns[1]].value_counts()\n",
    "df_age_counts.name = \"total number\"\n",
    "df_age_counts"
   ]
  },
  {
   "cell_type": "code",
   "execution_count": 55,
   "id": "ethical-reaction",
   "metadata": {},
   "outputs": [
    {
     "ename": "NameError",
     "evalue": "name 'df_support' is not defined",
     "output_type": "error",
     "traceback": [
      "\u001b[0;31m---------------------------------------------------------------------------\u001b[0m",
      "\u001b[0;31mNameError\u001b[0m                                 Traceback (most recent call last)",
      "\u001b[0;32m<ipython-input-55-5a3a1da3d571>\u001b[0m in \u001b[0;36m<module>\u001b[0;34m\u001b[0m\n\u001b[1;32m      2\u001b[0m \u001b[0;31m# as their reason to join the BCMT\u001b[0m\u001b[0;34m\u001b[0m\u001b[0;34m\u001b[0m\u001b[0;34m\u001b[0m\u001b[0m\n\u001b[1;32m      3\u001b[0m \u001b[0;32mfor\u001b[0m \u001b[0mcolumn\u001b[0m \u001b[0;32min\u001b[0m \u001b[0mcolumns\u001b[0m\u001b[0;34m:\u001b[0m\u001b[0;34m\u001b[0m\u001b[0;34m\u001b[0m\u001b[0m\n\u001b[0;32m----> 4\u001b[0;31m     \u001b[0mprint\u001b[0m\u001b[0;34m(\u001b[0m\u001b[0mdf_support\u001b[0m\u001b[0;34m[\u001b[0m\u001b[0mcolumn\u001b[0m\u001b[0;34m]\u001b[0m\u001b[0;34m.\u001b[0m\u001b[0mvalue_counts\u001b[0m\u001b[0;34m(\u001b[0m\u001b[0;34m)\u001b[0m\u001b[0;34m,\u001b[0m \u001b[0mend\u001b[0m\u001b[0;34m=\u001b[0m\u001b[0;36m2\u001b[0m\u001b[0;34m*\u001b[0m\u001b[0;34m\"\\n\"\u001b[0m\u001b[0;34m)\u001b[0m\u001b[0;34m\u001b[0m\u001b[0;34m\u001b[0m\u001b[0m\n\u001b[0m",
      "\u001b[0;31mNameError\u001b[0m: name 'df_support' is not defined"
     ]
    }
   ],
   "source": [
    "# counts the occurrences of various quantities for those who cite support \n",
    "# as their reason to join the BCMT\n",
    "for column in columns:\n",
    "    print(df_support[column].value_counts(), end=2*\"\\n\")"
   ]
  },
  {
   "cell_type": "code",
   "execution_count": null,
   "id": "metric-weight",
   "metadata": {},
   "outputs": [],
   "source": [
    "# counts the occurrences of various quantities for everyone in the survey\n",
    "for column in columns:\n",
    "    print(df[column].value_counts(), end=2*\"\\n\")"
   ]
  },
  {
   "cell_type": "code",
   "execution_count": null,
   "id": "statistical-facial",
   "metadata": {
    "scrolled": false
   },
   "outputs": [],
   "source": [
    "# the percentage of respondents cite support relative to all respondents, who cite support \n",
    "# as their reason to join the BCMT\n",
    "for column in columns:\n",
    "    tdf = df_support[column].value_counts()/df[column].value_counts()\n",
    "    print(100*tdf.sort_values(ascending=False).round(2), end=2*\"\\n\")"
   ]
  }
 ],
 "metadata": {
  "hide_input": false,
  "kernelspec": {
   "display_name": "Python 3",
   "language": "python",
   "name": "python3"
  },
  "language_info": {
   "codemirror_mode": {
    "name": "ipython",
    "version": 3
   },
   "file_extension": ".py",
   "mimetype": "text/x-python",
   "name": "python",
   "nbconvert_exporter": "python",
   "pygments_lexer": "ipython3",
   "version": "3.8.8"
  },
  "toc": {
   "base_numbering": 1,
   "nav_menu": {},
   "number_sections": true,
   "sideBar": true,
   "skip_h1_title": false,
   "title_cell": "Table of Contents",
   "title_sidebar": "Contents",
   "toc_cell": false,
   "toc_position": {},
   "toc_section_display": true,
   "toc_window_display": false
  }
 },
 "nbformat": 4,
 "nbformat_minor": 5
}
