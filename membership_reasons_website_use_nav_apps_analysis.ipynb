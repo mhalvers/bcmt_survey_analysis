{
 "cells": [
  {
   "cell_type": "markdown",
   "id": "molecular-checkout",
   "metadata": {},
   "source": [
    "The purpose of this notebook is to answer the questions put forth here:\n",
    "\n",
    "https://docs.google.com/document/d/1Tu8-XHeOP9LHn6BmkOEHk__p1JaFNdb6jCw2UQc-vA8/edit\n",
    "\n",
    "- Mark Halverson\n",
    "- February 26, 2012"
   ]
  },
  {
   "cell_type": "code",
   "execution_count": 1,
   "id": "chicken-metropolitan",
   "metadata": {},
   "outputs": [],
   "source": [
    "import pandas as pd\n",
    "import numpy as np\n",
    "import matplotlib.pyplot as plt\n",
    "from survey_utils.change_column_names import change_column_names"
   ]
  },
  {
   "cell_type": "code",
   "execution_count": 2,
   "id": "artificial-liver",
   "metadata": {},
   "outputs": [],
   "source": [
    "df = pd.read_csv(\"data/BCMT Membership Survey Anonymized Responses.csv\")"
   ]
  },
  {
   "cell_type": "code",
   "execution_count": 3,
   "id": "steady-dynamics",
   "metadata": {},
   "outputs": [],
   "source": [
    "df = change_column_names(df)"
   ]
  },
  {
   "cell_type": "code",
   "execution_count": 4,
   "id": "headed-dealer",
   "metadata": {},
   "outputs": [
    {
     "data": {
      "text/plain": [
       "Index(['timestamp', 'activities', 'primary activity', 'years experience',\n",
       "       'activity frequency', 'activity duration', 'group size',\n",
       "       'membership duration', 'membership reason', 'have volunteered',\n",
       "       'volunteer activities', 'used bcmt map', 'bcmt map frequency',\n",
       "       'bcmt.org use reason', 'mobile apps used', 'submitted scr',\n",
       "       'scr report frequency', 'gender', 'age group', 'location', 'email'],\n",
       "      dtype='object')"
      ]
     },
     "execution_count": 4,
     "metadata": {},
     "output_type": "execute_result"
    }
   ],
   "source": [
    "# print out the column names\n",
    "df.columns"
   ]
  },
  {
   "cell_type": "markdown",
   "id": "appropriate-samuel",
   "metadata": {},
   "source": [
    "# Apply some string operations to fill gaps and ensure consistency in letter cases"
   ]
  },
  {
   "cell_type": "code",
   "execution_count": 5,
   "id": "white-escape",
   "metadata": {},
   "outputs": [],
   "source": [
    "# lower case some of the responses\n",
    "df[\"activities\"] = df[\"activities\"].str.lower()\n",
    "df[\"primary activity\"] = df[\"primary activity\"].str.lower()\n",
    "df[\"membership reason\"] = df[\"membership reason\"].str.lower()\n",
    "df[\"bcmt.org use reason\"] = df[\"bcmt.org use reason\"].str.lower()\n",
    "df[\"mobile apps used\"] = df[\"mobile apps used\"].str.lower()"
   ]
  },
  {
   "cell_type": "code",
   "execution_count": 6,
   "id": "amateur-handling",
   "metadata": {},
   "outputs": [
    {
     "name": "stdout",
     "output_type": "stream",
     "text": [
      "Website use reason has 23 null values\n",
      "Mobile apps used has 67 null values\n"
     ]
    }
   ],
   "source": [
    "# gap fill\n",
    "print(f'Website use reason has {df[\"bcmt.org use reason\"].isna().sum()} null values')\n",
    "print(f'Mobile apps used has {df[\"mobile apps used\"].isna().sum()} null values')\n",
    "\n",
    "df[\"bcmt.org use reason\"].fillna(\"no answer provided\", inplace=True)\n",
    "df[\"mobile apps used\"].fillna(\"no answer provided\", inplace=True)"
   ]
  },
  {
   "cell_type": "code",
   "execution_count": 7,
   "id": "formed-tourist",
   "metadata": {},
   "outputs": [],
   "source": [
    "# fix up some compound words\n",
    "df[\"membership reason\"] = df[\"membership reason\"].str.replace(\"camp site\", \"campsite\", regex=False)\n",
    "df[\"bcmt.org use reason\"] = df[\"bcmt.org use reason\"].str.replace(\"kajak\", \"kayak\", regex=False)\n",
    "df[\"mobile apps used\"] = df[\"mobile apps used\"].str.replace(\"garmon\", \"garmin\", regex=False)"
   ]
  },
  {
   "cell_type": "markdown",
   "id": "floating-webster",
   "metadata": {},
   "source": [
    "# Now the analysis"
   ]
  },
  {
   "cell_type": "markdown",
   "id": "proper-detection",
   "metadata": {},
   "source": [
    "__Create a mask to pick out members__"
   ]
  },
  {
   "cell_type": "code",
   "execution_count": 8,
   "id": "hourly-documentation",
   "metadata": {},
   "outputs": [
    {
     "name": "stdout",
     "output_type": "stream",
     "text": [
      "275 respondents report having a BCMT membership\n"
     ]
    }
   ],
   "source": [
    "is_member = ~df[\"membership duration\"].str.contains(\"not\")\n",
    "print(f\"{sum(is_member)} respondents report having a BCMT membership\")"
   ]
  },
  {
   "cell_type": "code",
   "execution_count": 9,
   "id": "muslim-angle",
   "metadata": {},
   "outputs": [
    {
     "data": {
      "text/plain": [
       "(275, 21)"
      ]
     },
     "execution_count": 9,
     "metadata": {},
     "output_type": "execute_result"
    }
   ],
   "source": [
    "# subset the data for membership\n",
    "df_members = df.loc[is_member,:]\n",
    "df_members.shape"
   ]
  },
  {
   "cell_type": "code",
   "execution_count": 10,
   "id": "constant-penalty",
   "metadata": {},
   "outputs": [
    {
     "name": "stdout",
     "output_type": "stream",
     "text": [
      "for how long have the members had a membership?\n"
     ]
    },
    {
     "data": {
      "text/plain": [
       "2-3 years            113\n",
       "1 year or less        72\n",
       "4-5 years             60\n",
       "More than 5 years     30\n",
       "Name: membership duration, dtype: int64"
      ]
     },
     "execution_count": 10,
     "metadata": {},
     "output_type": "execute_result"
    }
   ],
   "source": [
    "print(\"for how long have the members had a membership?\")\n",
    "df_members[\"membership duration\"].value_counts()"
   ]
  },
  {
   "cell_type": "markdown",
   "id": "plastic-particle",
   "metadata": {},
   "source": [
    "__How often do the words \"support\" and \"map\" appear in the responses for why people purchased a BCMT membership?__"
   ]
  },
  {
   "cell_type": "code",
   "execution_count": 11,
   "id": "social-ranch",
   "metadata": {},
   "outputs": [
    {
     "data": {
      "text/plain": [
       "254                               trip planning and maps\n",
       "215                                                 maps\n",
       "323                               support marine trails.\n",
       "14                            information and connection\n",
       "154                         to support our trail systems\n",
       "311                to suppport the marine trails efforts\n",
       "78     wealth of information; to be able to help buil...\n",
       "223                                              support\n",
       "287                            support the organization \n",
       "248                              howe sound marine trail\n",
       "Name: membership reason, dtype: object"
      ]
     },
     "execution_count": 11,
     "metadata": {},
     "output_type": "execute_result"
    }
   ],
   "source": [
    "# print out 10 random reasons\n",
    "df_members[\"membership reason\"].sample(10)"
   ]
  },
  {
   "cell_type": "code",
   "execution_count": 12,
   "id": "fresh-investment",
   "metadata": {},
   "outputs": [],
   "source": [
    "# count the number of times \"map\" occurs in the responses.\n",
    "# also create a flag that selects responses containing map\n",
    "n_map = df_members[\"membership reason\"].str.count(\"map\")\n",
    "has_map = n_map >= 1"
   ]
  },
  {
   "cell_type": "code",
   "execution_count": 13,
   "id": "ranging-needle",
   "metadata": {},
   "outputs": [
    {
     "data": {
      "text/plain": [
       "False    223\n",
       "True      52\n",
       "Name: membership reason, dtype: int64"
      ]
     },
     "execution_count": 13,
     "metadata": {},
     "output_type": "execute_result"
    }
   ],
   "source": [
    "has_map.value_counts()"
   ]
  },
  {
   "cell_type": "code",
   "execution_count": 14,
   "id": "removed-catalyst",
   "metadata": {},
   "outputs": [
    {
     "data": {
      "text/plain": [
       "['access to the marine trails map and to support the bcmt programs particularly creation of sites and cleanup work',\n",
       " 'access to maps, website resources, newsletter',\n",
       " 'campsite maps',\n",
       " 'campsite maps',\n",
       " 'campsite maps',\n",
       " 'for better access to the online map for trip planning ',\n",
       " 'maping, camping spots, trip info',\n",
       " 'for kayaking information, maps',\n",
       " \"as a person who's paddled all the sounds on the west coast of vancouver island, a portion of the broughton archipelago and a portion of the hakai protected area, i've always appreciated reviewing the bcmt maps and identified campsites. they have not always been accurate, but are a wonderful resource. i enjoy that enthusiasts are assisting others to experience our fabulous environment, and i'm very supportive of the organization that provides a structure for those interests. while i do not have a lot of time, i pleased at least to be a member.\",\n",
       " 'to support it. safety info. maps. destinations.community.',\n",
       " 'to support marine trails and access the maps',\n",
       " 'access to the maps of campsites',\n",
       " 'support conservation & education activities including maps and land purchases',\n",
       " 'to support your cause.  i loved the idea of providing maps and campsite locations for others ',\n",
       " 'liked the site map for camping spots & always dreamed of a marine trail network & want to support such efforts!',\n",
       " 'to use the maps and support the trail',\n",
       " 'to use the map',\n",
       " 'to access the map and support the mission',\n",
       " 'thanks for the maps and camp spots',\n",
       " 'the awesome map and ongoing conservation work. keep up the great job ',\n",
       " 'to support the organization (i access the map)s',\n",
       " 'for the map and its campsite info',\n",
       " 'i was looking at the marine trail maps and i felt it was a good cause to support ',\n",
       " 'support a good organization and use the map',\n",
       " 'access to online resources, great maps, know where the good spots are',\n",
       " 'love the idea of having an advocate for marine protected areas, landing spots, camping spot. love the new camping  sites and map to locate sites to land/camp. want to continue your fine work.',\n",
       " 'it was recommended in my paddle canada class. i like the maps.',\n",
       " 'for info, maps, destinations.  to contribute through dues and learn more about bcmt',\n",
       " 'to support the development of marine trails, cleanups, and access to trail maps',\n",
       " 'access to map / support',\n",
       " 'access to the map!',\n",
       " 'to get access to map of sites in mid coast',\n",
       " 'mapping capabilities, to support the bcmt ',\n",
       " 'the map and an interest in supporting environmental awareness',\n",
       " 'to get access to the map and to support a good organization',\n",
       " 'to support the cause & have use of the online map',\n",
       " 'access to digital map & routes',\n",
       " 'maps',\n",
       " 'to support the organization and gain access to the maps and charts.',\n",
       " 'the maps/campsites; support the cause',\n",
       " 'resources, access to map. ',\n",
       " 'your marine sites map has so much valuable info that i decided to support your activities although the map access is free',\n",
       " 'trip planning and maps',\n",
       " 'access to map',\n",
       " 'for the map feature',\n",
       " 'i have used the map quite often and wanted to give back to the organization for making/maintaining it. ',\n",
       " 'access to the map and wanting to support the good work bcmt does.',\n",
       " 'to help support the continued access to human power vessel camping sites and day use areas.  also to help support website map.',\n",
       " 'i was using the map',\n",
       " 'access to maps and news on the marine trails',\n",
       " 'support the work you do, get the full map',\n",
       " 'map']"
      ]
     },
     "execution_count": 14,
     "metadata": {},
     "output_type": "execute_result"
    }
   ],
   "source": [
    "df_members.loc[has_map,\"membership reason\"].to_list()"
   ]
  },
  {
   "cell_type": "code",
   "execution_count": 15,
   "id": "secondary-struggle",
   "metadata": {},
   "outputs": [],
   "source": [
    "n_support = df_members[\"membership reason\"].str.count(\"support\")\n",
    "has_support = n_support >= 1"
   ]
  },
  {
   "cell_type": "code",
   "execution_count": 16,
   "id": "conservative-chick",
   "metadata": {},
   "outputs": [
    {
     "data": {
      "text/plain": [
       "[\"to use bcmt's paddle planning features and support the project \",\n",
       " 'support -- interest',\n",
       " 'i want to support the work you do. ',\n",
       " 'to support your cause.  i loved the idea of providing maps and campsite locations for others ',\n",
       " 'to support the organization (i access the map)s',\n",
       " 'to support the paddling community.',\n",
       " 'support marine recreation ',\n",
       " 'want to support and stay connected',\n",
       " 'to support development of marine trails.',\n",
       " 'support marine trails',\n",
       " 'to support it’s work ',\n",
       " 'to support marine trails and access the maps',\n",
       " 'i support what bcmt does in my favorite place on earth',\n",
       " 'want to support the kayak community and possibly learn about local paddles',\n",
       " 'to support its goals',\n",
       " \"as a person who's paddled all the sounds on the west coast of vancouver island, a portion of the broughton archipelago and a portion of the hakai protected area, i've always appreciated reviewing the bcmt maps and identified campsites. they have not always been accurate, but are a wonderful resource. i enjoy that enthusiasts are assisting others to experience our fabulous environment, and i'm very supportive of the organization that provides a structure for those interests. while i do not have a lot of time, i pleased at least to be a member.\",\n",
       " 'support bcmt',\n",
       " 'to support your efforts',\n",
       " 'have supported bcmt since founding',\n",
       " 'to support the organization and access the resources',\n",
       " 'support a good organization and use the map',\n",
       " 'to support trail expansion ',\n",
       " 'to support the organization although i don’t use the website much.',\n",
       " 'wanted to support them and the resources/information are very helpful. ',\n",
       " 'to support the cause & have use of the online map']"
      ]
     },
     "execution_count": 16,
     "metadata": {},
     "output_type": "execute_result"
    }
   ],
   "source": [
    "df_members.loc[has_support,\"membership reason\"].sample(25).to_list()"
   ]
  },
  {
   "cell_type": "code",
   "execution_count": 17,
   "id": "latter-pierce",
   "metadata": {},
   "outputs": [
    {
     "name": "stdout",
     "output_type": "stream",
     "text": [
      "Percentage of members mentioning \"map\": 18.9%\n",
      "Percentage of members mentioning \"support\": 42.9%\n"
     ]
    }
   ],
   "source": [
    "# a few basic stats\n",
    "print(f\"Percentage of members mentioning \\\"map\\\": {np.round(100*sum(has_map)/df_members.shape[0],1)}%\")\n",
    "print(f\"Percentage of members mentioning \\\"support\\\": {np.round(100*sum(has_support)/df_members.shape[0],1)}%\")"
   ]
  },
  {
   "cell_type": "markdown",
   "id": "overhead-cloud",
   "metadata": {},
   "source": [
    "__How often do the words map, resources, information, trip planning, ideas appear in the responses for why people use BCMT.org?__"
   ]
  },
  {
   "cell_type": "code",
   "execution_count": 18,
   "id": "overall-chain",
   "metadata": {},
   "outputs": [
    {
     "data": {
      "text/plain": [
       "Index(['timestamp', 'activities', 'primary activity', 'years experience',\n",
       "       'activity frequency', 'activity duration', 'group size',\n",
       "       'membership duration', 'membership reason', 'have volunteered',\n",
       "       'volunteer activities', 'used bcmt map', 'bcmt map frequency',\n",
       "       'bcmt.org use reason', 'mobile apps used', 'submitted scr',\n",
       "       'scr report frequency', 'gender', 'age group', 'location', 'email'],\n",
       "      dtype='object')"
      ]
     },
     "execution_count": 18,
     "metadata": {},
     "output_type": "execute_result"
    }
   ],
   "source": [
    "df.columns"
   ]
  },
  {
   "cell_type": "code",
   "execution_count": 19,
   "id": "persistent-catering",
   "metadata": {},
   "outputs": [
    {
     "name": "stdout",
     "output_type": "stream",
     "text": [
      "Example of reasons why respondents used the BCMT website\n"
     ]
    },
    {
     "data": {
      "text/plain": [
       "['to find good overnight camping spots',\n",
       " 'review map of campsites when planning trips',\n",
       " 'research camp and distances',\n",
       " 'finding campsites',\n",
       " 'access map, read trip stories',\n",
       " 'trip planning',\n",
       " 'trip planning',\n",
       " 'no answer provided',\n",
       " 'routes',\n",
       " 'relatively new to the island, want to gain more knowledge on kayak routes and great destinations',\n",
       " 'looking at areas i’m not familiar with.  ',\n",
       " 'to learn of new kayaking sites and clean up projects',\n",
       " 'seeing outdoor works and scenery ',\n",
       " 'no answer provided',\n",
       " 'guidance on water trails for day trip',\n",
       " 'no answer provided',\n",
       " 'maps, information',\n",
       " 'discover routes, campsites and stops of interest',\n",
       " 'kayaking trips',\n",
       " 'no answer provided']"
      ]
     },
     "execution_count": 19,
     "metadata": {},
     "output_type": "execute_result"
    }
   ],
   "source": [
    "print(\"Example of reasons why respondents used the BCMT website\")\n",
    "df[\"bcmt.org use reason\"].sample(20).to_list()"
   ]
  },
  {
   "cell_type": "markdown",
   "id": "equal-entrepreneur",
   "metadata": {},
   "source": [
    "__Create a series of masks representing which responses contain words of interest__"
   ]
  },
  {
   "cell_type": "code",
   "execution_count": 20,
   "id": "genuine-undergraduate",
   "metadata": {},
   "outputs": [],
   "source": [
    "has_map = df[\"bcmt.org use reason\"].str.contains(\"map\")\n",
    "#df.loc[has_map,\"bcmt.org use reason\"]"
   ]
  },
  {
   "cell_type": "code",
   "execution_count": 21,
   "id": "attached-underwear",
   "metadata": {},
   "outputs": [],
   "source": [
    "has_resource = df[\"bcmt.org use reason\"].str.contains(\"resource\")\n",
    "#df.loc[has_resource,\"bcmt.org use reason\"]"
   ]
  },
  {
   "cell_type": "code",
   "execution_count": 22,
   "id": "traditional-newfoundland",
   "metadata": {},
   "outputs": [],
   "source": [
    "has_info = df[\"bcmt.org use reason\"].str.contains(\"info\")\n",
    "#df.loc[has_info,\"bcmt.org use reason\"]"
   ]
  },
  {
   "cell_type": "code",
   "execution_count": 23,
   "id": "stock-essay",
   "metadata": {},
   "outputs": [],
   "source": [
    "has_plan = df[\"bcmt.org use reason\"].str.contains(\"plan\")\n",
    "#df.loc[has_plan,\"bcmt.org use reason\"]"
   ]
  },
  {
   "cell_type": "code",
   "execution_count": 24,
   "id": "postal-tucson",
   "metadata": {},
   "outputs": [],
   "source": [
    "has_idea = df[\"bcmt.org use reason\"].str.contains(\"idea\")\n",
    "#df.loc[has_idea,\"bcmt.org use reason\"]"
   ]
  },
  {
   "cell_type": "code",
   "execution_count": 25,
   "id": "hybrid-chicago",
   "metadata": {},
   "outputs": [
    {
     "name": "stdout",
     "output_type": "stream",
     "text": [
      "Percentage of bcmt.org uses mentioning \"map\": 31.7%\n",
      "Percentege of bcmt.org uses mentioning \"resource\": 1.2%\n",
      "Percentage of bcmt.org uses mentioning \"info\": 20.9%\n",
      "Percentage of bcmt.org uses mentioning \"plan\": 13.5%\n",
      "Percentage of bcmt.org uses mentioning \"idea\": 2.5%\n"
     ]
    }
   ],
   "source": [
    "print(f\"Percentage of bcmt.org uses mentioning \\\"map\\\": {np.round(100*has_map.sum()/has_map.shape[0],1)}%\")\n",
    "print(f\"Percentege of bcmt.org uses mentioning \\\"resource\\\": {np.round(100*has_resource.sum()/has_resource.shape[0],1)}%\")\n",
    "print(f\"Percentage of bcmt.org uses mentioning \\\"info\\\": {np.round(100*has_info.sum()/has_info.shape[0],1)}%\")\n",
    "print(f\"Percentage of bcmt.org uses mentioning \\\"plan\\\": {np.round(100*has_plan.sum()/has_plan.shape[0],1)}%\")\n",
    "print(f\"Percentage of bcmt.org uses mentioning \\\"idea\\\": {np.round(100*has_idea.sum()/has_idea.shape[0],1)}%\")"
   ]
  },
  {
   "cell_type": "code",
   "execution_count": 26,
   "id": "infectious-result",
   "metadata": {},
   "outputs": [],
   "source": [
    "strs = [\"map\",\"resource\",\"info\",\"plan\",\"idea\"]\n",
    "\n",
    "uses = pd.Series(index=strs, dtype=float)\n",
    "uses.name = \"percent_responses\"\n",
    "for str in strs:\n",
    "    has_str = df[\"bcmt.org use reason\"].str.contains(str, case=False)\n",
    "    uses[str] = 100*has_str.sum()/has_str.shape[0]"
   ]
  },
  {
   "cell_type": "code",
   "execution_count": 27,
   "id": "married-inspector",
   "metadata": {},
   "outputs": [
    {
     "data": {
      "image/png": "[encoded data removed]",
      "text/plain": [
       "<Figure size 432x288 with 1 Axes>"
      ]
     },
     "metadata": {
      "needs_background": "light"
     },
     "output_type": "display_data"
    }
   ],
   "source": [
    "uses.sort_values(ascending=True).plot.barh();\n",
    "plt.title(\"Reasons cited for using bcmt.org\")\n",
    "plt.xlabel(\"Percentage of responses containing string\");"
   ]
  },
  {
   "cell_type": "markdown",
   "id": "forbidden-horse",
   "metadata": {},
   "source": [
    "__How often do the words Google map, Windy, Navionics, Aquamaps, Tides, Current atlas, Gaia, Strava, Predict Wind, No appear in the responses for which mobile apps people use?__"
   ]
  },
  {
   "cell_type": "code",
   "execution_count": 28,
   "id": "narrative-productivity",
   "metadata": {},
   "outputs": [
    {
     "data": {
      "text/plain": [
       "['no answer provided',\n",
       " 'no answer provided',\n",
       " 'total flow maps, tide tables',\n",
       " 'yes',\n",
       " 'tide apps, marine traffic, weather ',\n",
       " 'aquamap tides gaiagps - for navigation tides and current',\n",
       " 'no answer provided',\n",
       " 'gps',\n",
       " 'aquamap tides gaiagps - for navigation tides and current',\n",
       " 'yes',\n",
       " 'predict wind, easy gps (download to computer), gps track editor, home port',\n",
       " 'navionics',\n",
       " 'google maps. mostly my gps',\n",
       " 'aquamap tides gaiagps - for navigation tides and current',\n",
       " 'tides',\n",
       " 'navionics',\n",
       " 'google earth on my desktop to determine distance traveled with the line tool',\n",
       " 'no',\n",
       " 'no answer provided',\n",
       " 'no answer provided',\n",
       " 'no answer provided',\n",
       " 'google earth with marine trail campsites down loaded and garmin navionics.',\n",
       " 'yes, before and during. sometimes afterwords to cross reference.',\n",
       " 'whale report',\n",
       " 'wind prediction applications ',\n",
       " 'canada maps, for route planning and location via android gps',\n",
       " 'gaia',\n",
       " 'yes, garmin gpsmap 78s with charting',\n",
       " 'no answer provided',\n",
       " 'strava. distance speed etc',\n",
       " 'maps\\nweather\\nwhat3words \\ntide tsbles',\n",
       " 'no',\n",
       " 'gaia',\n",
       " 'no',\n",
       " 'no answer provided',\n",
       " 'only a gps unit ...',\n",
       " 'no answer provided',\n",
       " 'yes, spot device-safety, gaia gps map, location, canada topo -map, location',\n",
       " 'windy,sail flow and others for i formation on comditions',\n",
       " 'windy for weather, gaia gps for navigation',\n",
       " 'yes. conditions and navigation. tidegraph pro, windy, deepzoom. ',\n",
       " 'no answer provided',\n",
       " 'windy for weather forecasts',\n",
       " 'gaia gps - route planning, navigation, google doc - trip planning, shared with emergency contact',\n",
       " 'no answer provided',\n",
       " 'no',\n",
       " 'no',\n",
       " 'windy. wind direction ',\n",
       " 'navionics, topo canada',\n",
       " 'predictwind, wind and tide',\n",
       " 'vhf radio if necessary .',\n",
       " 'navionics for navigation purposes ',\n",
       " \"usually do planning on computer; don't recall using my phone ona trip. too likely to get wet, and often out of cell range\",\n",
       " 'gaia gps location and recording, tide pro for  tides and currents, weather network ',\n",
       " 'avenza',\n",
       " 'gps lite',\n",
       " 'no answer provided',\n",
       " 'no answer provided',\n",
       " 'navionics,  bcmt site, windalert',\n",
       " 'wind prediction apps, tide and current apps, weather apps',\n",
       " 'navionics boating as a back-up',\n",
       " 'windy-winds',\n",
       " 'aqua map, windy, ayetides',\n",
       " 'predictwind....to get info for planning',\n",
       " 'no',\n",
       " 'maps.me, gaia',\n",
       " 'gaia, windy, ',\n",
       " 'c-map for planning',\n",
       " 'google maps ',\n",
       " 'no answer provided',\n",
       " 'no answer provided',\n",
       " 'gaia gps for trails & terrain, navionics boating for marine chart info & tides & currents, safari for canadian tides & current tables & marine weather reports, ship finder for ais large vessel traffic including ferries provided we have cell reception, windy for weather, weather network app, kindle for reading entertainment, books app for device manuals, notes app for custom gear & food checklists & trip notes & trip planning, apple fitness app & watch for recording the paddle effort itself & of course the camera app!\\n',\n",
       " 'all trails',\n",
       " 'no answer provided',\n",
       " 'no',\n",
       " 'i go low-tech while paddling, disconnect from technology. i use google earth, gc tides and currents, windy, and bcmtn before heading out. i post on fb after and create photo books from my trips through london drugs.',\n",
       " 'google map, tide table',\n",
       " 'yes.  navionics.  information',\n",
       " 'windy: wind forecast; tides: tide levels; adventuresmart: leaving float plans',\n",
       " 'no',\n",
       " 'no answer provided',\n",
       " 'environment canada, aye tides \\nnavionics',\n",
       " 'garmin / navionics ',\n",
       " 'no answer provided',\n",
       " 'strava, ayetides',\n",
       " 'gps, compass, camera, ',\n",
       " 'gaia and other mapping apps. ',\n",
       " 'windy, garmin',\n",
       " 'ayetides and tidegraph pro for tides and currents; pnw current atlas for currents; outcast for marine forecasts; rivercast for river flows; gopaddling for paddling locations; american whitewater for river segments; buoy reports for real-time weather & water conditions',\n",
       " 'windy for weather and winds , govt cdn for marine weather ',\n",
       " 'navionics.  winds, currents.  ',\n",
       " 'windy,sail flow and others for i formation on comditions',\n",
       " 'no answer provided',\n",
       " '1. komoot for route planning. 2. windy for winds and weather',\n",
       " 'weather, maps, forest sites info ',\n",
       " 'i use gps to assist with navigation',\n",
       " 'no.',\n",
       " 'navionics ',\n",
       " 'inavx - navigation,',\n",
       " 'no',\n",
       " 'no answer provided',\n",
       " 'windy.com - weather and wind\\ntide times pro - tides and currents\\nriverapp - river flow rates (rarely used)\\ngoogle fit - track gps\\ngoogle maps - current location, surveying\\ngoogle earth - planning for trips\\ngo paddling - to find launch sites',\n",
       " 'no',\n",
       " 'no answer provided',\n",
       " 'no answer provided',\n",
       " 'no answer provided',\n",
       " 'google offline maps before, during trips. ',\n",
       " 'no answer provided',\n",
       " 'no answer provided',\n",
       " 'no ',\n",
       " 'marine hd, marine traffic,  deepzoom',\n",
       " 'navionics for navigation',\n",
       " 'no answer provided',\n",
       " 'gaia, predictwind',\n",
       " 'yes, weather maps and garmin trip tracker',\n",
       " 'charts only',\n",
       " 'no',\n",
       " 'no answer provided',\n",
       " 'no',\n",
       " 'tide times, weather, windy',\n",
       " 'no',\n",
       " 'weather network ',\n",
       " 'tide and weather apps',\n",
       " 'tides, weather, windfinder,windy',\n",
       " 'yes. navionics and tide/currents apps',\n",
       " 'sailflow for wind prediction',\n",
       " 'ayetides, navionics, predictwind, windy, wind alert, tiny octopus ',\n",
       " 'garmin with bluechart',\n",
       " 'no',\n",
       " 'tides, windy, google maps, ',\n",
       " 'gps as in garmin. ',\n",
       " 'no',\n",
       " 'i use navionics as backup to paper maps.',\n",
       " 'wikiloc - sharing routes, suunto app - tracking speed, distance, direction, and locations, earthmate (inreach) - satellite tracking and communication for longer/remote trips, windy - watching the wind, weather underground - weather, inaturalist - reporting wildlife sightings, plus a few more',\n",
       " 'gov can wind report ',\n",
       " 'navionics..plotting, navigating',\n",
       " 'gov can wind report ',\n",
       " 'tides near me & windy',\n",
       " 'windy/govt tide tables',\n",
       " 'no answer provided',\n",
       " 'navionics, saiflow,windy',\n",
       " 'no answer provided',\n",
       " 'strava, for distance, tracking, and documentation.',\n",
       " 'predictwind/offshore - weather; navionics - routing, currents, details; waterspeed - tracking; ',\n",
       " ' google maps offline',\n",
       " 'navionics',\n",
       " 'garmin gps and satellite communication for emergencies and to stay in contact with family on longer and extreme wilderness trips; on line marine charts for navigation',\n",
       " 'yes, checking weather, tides, campsites, landing spots, stay in touch during trips if in cell range',\n",
       " 'viewranger - gps, tracking',\n",
       " 'weather',\n",
       " 'no answer provided',\n",
       " 'none',\n",
       " 'google maps, predictwind, environment canada weather, email',\n",
       " 'no',\n",
       " 'navionics for navigation, avenza with topo maps for planning',\n",
       " 'yes. aquamaps. also garmin earthmate (with a garmin inreach device)',\n",
       " 'no',\n",
       " 'no answer provided',\n",
       " 'windy, spot weather, for weather reports.',\n",
       " 'navionics',\n",
       " 'yes for water conditions ',\n",
       " 'no answer provided',\n",
       " 'navionics for route planning, windalert for weather ',\n",
       " 'windy, weatherpro hd, gaia',\n",
       " 'windy, tides, inavigator',\n",
       " 'no',\n",
       " 'weather',\n",
       " 'no',\n",
       " 'mapping apps (guru, map plus, garmin explore, etc). also google drive to access offline documents.',\n",
       " 'navionics ',\n",
       " 'navigation and tides ',\n",
       " 'no answer provided',\n",
       " 'tide table app',\n",
       " 'navigation apps,google earth, weather apps',\n",
       " 'no answer provided',\n",
       " 'windy',\n",
       " 'no.  i download campsites and waypoints to my handheld gps. ',\n",
       " 'no answer provided',\n",
       " 'no',\n",
       " 'no',\n",
       " 'no',\n",
       " 'navionics best suited for kayaking , windy,tide prdiction,tide times,vessel,wind alert',\n",
       " 'windy.ca',\n",
       " 'navionics, sailflow, predict wind, windy, bigwave dave,',\n",
       " 'no, my trips are currently limited to my immediate locale, however i would use apps that provide information regarding weather conditions, tides, potentially marine traffic if i were to contemplate a longer trip',\n",
       " 'no answer provided',\n",
       " 'navionics, google earth, on ipad /iphone',\n",
       " 'tide charts',\n",
       " 'windy, accuweather mainly weather',\n",
       " 'predict wind for wind and tide times info. also i check different web sites for current and tide info.',\n",
       " 'no answer provided',\n",
       " 'maps.me ioverlander ',\n",
       " 'no answer provided',\n",
       " 'windy, current atlas, gopaddling',\n",
       " 'no answer provided',\n",
       " 'inreach, down gpx for gis',\n",
       " 'isailor',\n",
       " 'no',\n",
       " 'google maps',\n",
       " 'no answer provided',\n",
       " 'google maps location research',\n",
       " 'no answer provided',\n",
       " 'bc marine trails, windy, predict wind, magic seaweed, navionics, paddle log, tides near me, adventure smart, gov of canada tides & currents & weather',\n",
       " 'navionics boating, tides near me, windy, google maps',\n",
       " 'navionics',\n",
       " 'no answer provided',\n",
       " 'windy, weatheroffice.go.ca and weather network as well as tides near me, navionics....all self explanatory ',\n",
       " 'windy & env canada - weather apps',\n",
       " '10\" laptop computer with pdf & photo apps',\n",
       " 'geocaching for recreation, navionics charts for navigation',\n",
       " 'strava for tracking',\n",
       " 'facebook',\n",
       " 'no answer provided',\n",
       " 'yes, for weather.',\n",
       " 'mostly just a variety of weather apps.',\n",
       " 'no answer provided',\n",
       " 'no answer provided',\n",
       " \"don't use\",\n",
       " 'yes...i know, you want more info...it varies...',\n",
       " 'no answer provided',\n",
       " 'recently, we’ve used facebook. we also use all trails for walking.',\n",
       " 'no',\n",
       " 'google earth, bing maps for planning. spot for tracking, spot adventures for posting trip pictures, tracks',\n",
       " 'yes. numerous tide, weather, and navigation apps. they vary.',\n",
       " 'no',\n",
       " 'no',\n",
       " 'no',\n",
       " 'no',\n",
       " 'yes, vhf radio + tablet',\n",
       " 'no answer provided',\n",
       " 'gps download of campsites',\n",
       " 'no answer provided',\n",
       " 'no ',\n",
       " 'whalereport, navionics boating, weathercan',\n",
       " 'no answer provided',\n",
       " 'no answer provided',\n",
       " 'newly loaded gaia on my phone (for snowshoeing) and hope to use it for kayaking.',\n",
       " 'no',\n",
       " 'no',\n",
       " 'no answer provided',\n",
       " 'no answer provided',\n",
       " 'no answer provided',\n",
       " 'the marine trails app. same purpose as above. ',\n",
       " 'fatmap',\n",
       " 'no, except windy for wx',\n",
       " 'predict wind, marine traffic',\n",
       " 'only marine trails and gps',\n",
       " 'navionics - for some route planning; more for fun tracking my route.  weather apps.',\n",
       " 'no answer provided',\n",
       " 'gaiagps',\n",
       " ' google maps offline',\n",
       " 'navionics; to confirm features for navigation',\n",
       " 'no answer provided',\n",
       " 'terra map',\n",
       " 'navionics, goodle earth',\n",
       " 'no',\n",
       " 'no answer provided',\n",
       " 'windy, ayetides, boating/navionics app, google mpa, google earth, social media, communication apps with in-reach, etc',\n",
       " 'environment canada - weather',\n",
       " 'not yet',\n",
       " 'no answer provided',\n",
       " 'aye tides, garmin in-reach, windy, ',\n",
       " 'no answer provided',\n",
       " 'gps/strava for fitness.',\n",
       " 'no',\n",
       " 'runkeeper and alltrails. we use these apps to track our route and navigate.  also to plan hikes while on land.',\n",
       " 'gaia gps, google',\n",
       " 'navionics',\n",
       " 'map my hike, to get a track of my route. ',\n",
       " 'windy, windfinder & whoseland?',\n",
       " 'yes',\n",
       " 'in reach - explore app',\n",
       " 'no answer provided',\n",
       " 'yes, weather, wind, maps.',\n",
       " 'no',\n",
       " 'navionics, mobile web browser for tides, camera',\n",
       " 'windy / weather',\n",
       " 'boat nav system, windy and itide',\n",
       " 'strava, google photos, envionment canada marine weather forecasts',\n",
       " 'no answer provided',\n",
       " 'no answer provided',\n",
       " 'garmin inreach , garmin gps 78, federal sites for weather and tides',\n",
       " 'no answer provided',\n",
       " 'no answer provided',\n",
       " 'no',\n",
       " 'iphone',\n",
       " 'no',\n",
       " 'garmin earthmate: paired with inreach for navigation. i would love to have bcmarine trails map info in a mobile app!',\n",
       " 'no',\n",
       " 'garmin earthmate',\n",
       " 'marine radio. g p s.',\n",
       " 'no',\n",
       " 'i prefer the old school ways',\n",
       " 'navionics for navigation, safari for tides & currents, windy for wind forecast',\n",
       " 'sometimes. mapping apps',\n",
       " 'windy - weather tides ',\n",
       " 'just a nautical chart, compass, radio ',\n",
       " 'navionics for charts, tides, currents;, canada maps to store and read downloads form bcmt map; vessel tracker to follow marine traffic in real time (needs web); environment canada for regular and marine weather (needs web); windy.com for wind forecast (needs web)',\n",
       " 'no answer provided',\n",
       " 'navionics for planning and navigation. ',\n",
       " 'no answer provided',\n",
       " 'marine vhf radio for safety',\n",
       " 'marine traffic app',\n",
       " 'no answer provided',\n",
       " 'no',\n",
       " 'yes. aquamaps. also garmin earthmate (with a garmin inreach device)',\n",
       " 'windy ty',\n",
       " 'inaturalist to identify a really surprising tree in refuge cove',\n",
       " 'no',\n",
       " 'no',\n",
       " 'yes, alltrails, google maps, atlas obscura to find areas that i am interested in viewing.',\n",
       " 'windy, web browser',\n",
       " 'windfinder, weather network',\n",
       " 'no',\n",
       " 'tide charts',\n",
       " 'yes. aquamaps. also garmin earthmate (with a garmin inreach device)',\n",
       " 'no',\n",
       " 'yes, google earth for gps coordinates, various apps for tides, and weather',\n",
       " 'no',\n",
       " 'yes. aquamaps. also garmin earthmate (with a garmin inreach device)',\n",
       " 'google maps',\n",
       " 'no',\n",
       " 'no answer provided',\n",
       " 'no',\n",
       " 'marine wind apps (predictwind, windalert, windfinder, windy, bigwavedave, spotwx, dark sky), weather forecasts (accuweather, weather underground, weather network, google wx), westcoastdave.ca (si kayak site), tide and current prediction online sites']"
      ]
     },
     "execution_count": 28,
     "metadata": {},
     "output_type": "execute_result"
    }
   ],
   "source": [
    "df[\"mobile apps used\"].to_list()"
   ]
  },
  {
   "cell_type": "code",
   "execution_count": 30,
   "id": "stuffed-hello",
   "metadata": {},
   "outputs": [],
   "source": [
    "has_google = df[\"mobile apps used\"].str.contains(\"google\", case=False)\n",
    "#df.loc[has_google,\"mobile apps used\"]"
   ]
  },
  {
   "cell_type": "code",
   "execution_count": 31,
   "id": "adverse-infrastructure",
   "metadata": {},
   "outputs": [],
   "source": [
    "has_windy = df[\"mobile apps used\"].str.contains(\"windy\", case=False)\n",
    "#df.loc[has_windy,\"mobile apps used\"]"
   ]
  },
  {
   "cell_type": "code",
   "execution_count": 32,
   "id": "neither-database",
   "metadata": {},
   "outputs": [],
   "source": [
    "has_navionics = df[\"mobile apps used\"].str.contains(\"navionics\", case=False)\n",
    "#df.loc[has_navionics,\"mobile apps used\"]"
   ]
  },
  {
   "cell_type": "code",
   "execution_count": 33,
   "id": "rising-bowling",
   "metadata": {},
   "outputs": [],
   "source": [
    "has_aquamaps = df[\"mobile apps used\"].str.contains(\"aquamaps\", case=False)\n",
    "#df.loc[has_aquamaps,\"mobile apps used\"]"
   ]
  },
  {
   "cell_type": "code",
   "execution_count": 34,
   "id": "heard-colleague",
   "metadata": {},
   "outputs": [],
   "source": [
    "has_tides = df[\"mobile apps used\"].str.contains(\"tides\", case=False)\n",
    "#df.loc[has_tides,\"mobile apps used\"]"
   ]
  },
  {
   "cell_type": "code",
   "execution_count": 35,
   "id": "pressed-worker",
   "metadata": {},
   "outputs": [],
   "source": [
    "has_atlas = df[\"mobile apps used\"].str.contains(\"atlas\", case=False)\n",
    "#df.loc[has_atlas,\"mobile apps used\"]"
   ]
  },
  {
   "cell_type": "code",
   "execution_count": 36,
   "id": "afraid-marker",
   "metadata": {},
   "outputs": [],
   "source": [
    "has_gaia = df[\"mobile apps used\"].str.contains(\"gaia\", case=False)\n",
    "#df.loc[has_gaia,\"mobile apps used\"]"
   ]
  },
  {
   "cell_type": "code",
   "execution_count": 37,
   "id": "naughty-wages",
   "metadata": {},
   "outputs": [],
   "source": [
    "has_strava = df[\"mobile apps used\"].str.contains(\"strava\", case=False)\n",
    "#df.loc[has_strava,\"mobile apps used\"]"
   ]
  },
  {
   "cell_type": "code",
   "execution_count": 38,
   "id": "excited-search",
   "metadata": {},
   "outputs": [],
   "source": [
    "has_predict = df[\"mobile apps used\"].str.contains(\"predict wind\", case=False)\n",
    "#df.loc[has_predict,\"mobile apps used\"]"
   ]
  },
  {
   "cell_type": "code",
   "execution_count": 39,
   "id": "ordinary-praise",
   "metadata": {},
   "outputs": [],
   "source": [
    "has_garmin = df[\"mobile apps used\"].str.contains(\"garmin\", case=False)\n",
    "#df.loc[has_garmin,\"mobile apps used\"]"
   ]
  },
  {
   "cell_type": "code",
   "execution_count": 40,
   "id": "dated-footage",
   "metadata": {},
   "outputs": [],
   "source": [
    "has_no = df[\"mobile apps used\"].str.contains(\"no\", case=False)\n",
    "#df.loc[has_no,\"mobile apps used\"]"
   ]
  },
  {
   "cell_type": "code",
   "execution_count": 45,
   "id": "proper-multiple",
   "metadata": {},
   "outputs": [],
   "source": [
    "has_null = df[\"mobile apps used\"].str.contains(\"no answer provided\", case=False)\n",
    "#df.loc[has_null,\"mobile apps used\"]"
   ]
  },
  {
   "cell_type": "code",
   "execution_count": 54,
   "id": "tender-trigger",
   "metadata": {},
   "outputs": [
    {
     "name": "stdout",
     "output_type": "stream",
     "text": [
      "Percentage of responses containing \"Google\": 8.3%\n",
      "Percentage of responses containing \"Windy\": 15.1%\n",
      "Percentage of responses containing \"Navionics\": 13.2%\n",
      "Percentage of responses containing \"Aquamaps\": 1.2%\n",
      "Percentage of responses containing \"Tides\": 9.8%\n",
      "Percentage of responses containing \"Atlas\": 0.9%\n",
      "Percentage of responses containing \"Gaia\": 5.5%\n",
      "Percentage of responses containing \"Strava\": 1.8%\n",
      "Percentage of responses containing \"Predict Wind\": 1.5%\n",
      "Percentage of responses containing \"Garmin\": 5.2%\n",
      "Percentage of responses containing \"No\": 38.2%\n",
      "Percentage of responses containing \"No Answer Provided\": 20.6%\n"
     ]
    }
   ],
   "source": [
    "strs = [\"google\",\"windy\",\"navionics\",\"aquamaps\",\"tides\",\"atlas\",\"gaia\",\"strava\",\"predict wind\",\"garmin\",\"no\",\"no answer provided\"]\n",
    "\n",
    "uses = pd.Series(index=strs, dtype=float)\n",
    "uses.name = \"percent_responses\"\n",
    "for str in strs:\n",
    "    has_str = df[\"mobile apps used\"].str.contains(str, case=False)\n",
    "    uses[str] = 100*has_str.sum()/has_str.shape[0]\n",
    "    print(f'Percentage of responses containing \"{str.title()}\": {np.round(100*has_str.sum()/has_str.shape[0],1)}%')"
   ]
  },
  {
   "cell_type": "code",
   "execution_count": 59,
   "id": "dying-madison",
   "metadata": {},
   "outputs": [],
   "source": [
    "# \"title-ize\" the app names\n",
    "uses.index = uses.index.str.title()"
   ]
  },
  {
   "cell_type": "code",
   "execution_count": 61,
   "id": "approved-central",
   "metadata": {},
   "outputs": [
    {
     "data": {
      "image/png": "[encoded data removed]",
      "text/plain": [
       "<Figure size 432x288 with 1 Axes>"
      ]
     },
     "metadata": {
      "needs_background": "light"
     },
     "output_type": "display_data"
    }
   ],
   "source": [
    "uses.sort_values(ascending=True).plot.barh();\n",
    "plt.title(\"App names cited by survey respondents\")\n",
    "plt.xlabel(\"Percentage of responses containing string\");"
   ]
  }
 ],
 "metadata": {
  "hide_input": false,
  "kernelspec": {
   "display_name": "Python 3",
   "language": "python",
   "name": "python3"
  },
  "language_info": {
   "codemirror_mode": {
    "name": "ipython",
    "version": 3
   },
   "file_extension": ".py",
   "mimetype": "text/x-python",
   "name": "python",
   "nbconvert_exporter": "python",
   "pygments_lexer": "ipython3",
   "version": "3.8.5"
  },
  "toc": {
   "base_numbering": 1,
   "nav_menu": {},
   "number_sections": true,
   "sideBar": true,
   "skip_h1_title": false,
   "title_cell": "Table of Contents",
   "title_sidebar": "Contents",
   "toc_cell": false,
   "toc_position": {},
   "toc_section_display": true,
   "toc_window_display": false
  }
 },
 "nbformat": 4,
 "nbformat_minor": 5
}
