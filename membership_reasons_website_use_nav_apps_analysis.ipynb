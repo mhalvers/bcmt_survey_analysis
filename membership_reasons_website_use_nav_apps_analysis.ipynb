{
 "cells": [
  {
   "cell_type": "markdown",
   "id": "every-deadline",
   "metadata": {},
   "source": [
    "The purpose of this notebook is to answer the questions put forth here:\n",
    "\n",
    "https://docs.google.com/document/d/1Tu8-XHeOP9LHn6BmkOEHk__p1JaFNdb6jCw2UQc-vA8/edit\n",
    "\n",
    "- Mark Halverson\n",
    "- February 26, 2012"
   ]
  },
  {
   "cell_type": "code",
   "execution_count": null,
   "id": "agreed-conspiracy",
   "metadata": {},
   "outputs": [],
   "source": [
    "import pandas as pd\n",
    "import numpy as np\n",
    "import matplotlib.pyplot as plt\n",
    "from survey_utils.change_column_names import change_column_names"
   ]
  },
  {
   "cell_type": "code",
   "execution_count": null,
   "id": "affiliated-herald",
   "metadata": {},
   "outputs": [],
   "source": [
    "df = pd.read_csv(\"data/BCMT Membership Survey Anonymized Responses.csv\")"
   ]
  },
  {
   "cell_type": "code",
   "execution_count": null,
   "id": "peripheral-reputation",
   "metadata": {},
   "outputs": [],
   "source": [
    "df = change_column_names(df)"
   ]
  },
  {
   "cell_type": "code",
   "execution_count": null,
   "id": "downtown-sword",
   "metadata": {},
   "outputs": [],
   "source": [
    "# print out the column names\n",
    "df.columns"
   ]
  },
  {
   "cell_type": "markdown",
   "id": "expected-encyclopedia",
   "metadata": {},
   "source": [
    "# Apply some string operations to fill gaps and ensure consistency in letter cases"
   ]
  },
  {
   "cell_type": "code",
   "execution_count": null,
   "id": "above-colon",
   "metadata": {},
   "outputs": [],
   "source": [
    "# lower case some of the responses\n",
    "df[\"activities\"] = df[\"activities\"].str.lower()\n",
    "df[\"primary activity\"] = df[\"primary activity\"].str.lower()\n",
    "df[\"membership reason\"] = df[\"membership reason\"].str.lower()\n",
    "df[\"bcmt.org use reason\"] = df[\"bcmt.org use reason\"].str.lower()\n",
    "df[\"mobile apps used\"] = df[\"mobile apps used\"].str.lower()"
   ]
  },
  {
   "cell_type": "code",
   "execution_count": null,
   "id": "infectious-arlington",
   "metadata": {},
   "outputs": [],
   "source": [
    "# gap fill\n",
    "print(f'Website use reason has {df[\"bcmt.org use reason\"].isna().sum()} null values')\n",
    "print(f'Mobile apps used has {df[\"mobile apps used\"].isna().sum()} null values')\n",
    "\n",
    "df[\"bcmt.org use reason\"].fillna(\"no answer provided\", inplace=True)\n",
    "df[\"mobile apps used\"].fillna(\"no answer provided\", inplace=True)"
   ]
  },
  {
   "cell_type": "code",
   "execution_count": null,
   "id": "conservative-tomato",
   "metadata": {},
   "outputs": [],
   "source": [
    "# fix up some compound words\n",
    "df[\"membership reason\"] = df[\"membership reason\"].str.replace(\"camp site\", \"campsite\", regex=False)\n",
    "df[\"bcmt.org use reason\"] = df[\"bcmt.org use reason\"].str.replace(\"kajak\", \"kayak\", regex=False)\n",
    "df[\"mobile apps used\"] = df[\"mobile apps used\"].str.replace(\"garmon\", \"garmin\", regex=False)"
   ]
  },
  {
   "cell_type": "markdown",
   "id": "classified-richmond",
   "metadata": {},
   "source": [
    "# Now the analysis"
   ]
  },
  {
   "cell_type": "markdown",
   "id": "intelligent-truck",
   "metadata": {},
   "source": [
    "__Create a mask to pick out members__"
   ]
  },
  {
   "cell_type": "code",
   "execution_count": null,
   "id": "minute-spell",
   "metadata": {},
   "outputs": [],
   "source": [
    "is_member = ~df[\"membership duration\"].str.contains(\"not\")\n",
    "print(f\"{sum(is_member)} respondents report having a BCMT membership\")"
   ]
  },
  {
   "cell_type": "code",
   "execution_count": null,
   "id": "seeing-punch",
   "metadata": {},
   "outputs": [],
   "source": [
    "# subset the data for membership\n",
    "df_members = df.loc[is_member,:]\n",
    "df_members.shape"
   ]
  },
  {
   "cell_type": "code",
   "execution_count": null,
   "id": "nervous-sample",
   "metadata": {},
   "outputs": [],
   "source": [
    "print(\"for how long have the members had a membership?\")\n",
    "df_members[\"membership duration\"].value_counts()"
   ]
  },
  {
   "cell_type": "markdown",
   "id": "positive-method",
   "metadata": {},
   "source": [
    "__How often do the words \"support\" and \"map\" appear in the responses for why people purchased a BCMT membership?__"
   ]
  },
  {
   "cell_type": "code",
   "execution_count": null,
   "id": "little-sitting",
   "metadata": {},
   "outputs": [],
   "source": [
    "# print out 10 random reasons\n",
    "df_members[\"membership reason\"].sample(10).to_list()"
   ]
  },
  {
   "cell_type": "code",
   "execution_count": null,
   "id": "above-importance",
   "metadata": {},
   "outputs": [],
   "source": [
    "# count the number of times \"map\" occurs in the responses.\n",
    "# also create a flag that selects responses containing map\n",
    "n_map = df_members[\"membership reason\"].str.count(\"map\")\n",
    "has_map = n_map >= 1"
   ]
  },
  {
   "cell_type": "code",
   "execution_count": null,
   "id": "finished-monte",
   "metadata": {},
   "outputs": [],
   "source": [
    "has_map.value_counts()"
   ]
  },
  {
   "cell_type": "code",
   "execution_count": null,
   "id": "thousand-complexity",
   "metadata": {},
   "outputs": [],
   "source": [
    "df_members.loc[has_map,\"membership reason\"].to_list()"
   ]
  },
  {
   "cell_type": "code",
   "execution_count": null,
   "id": "honest-attendance",
   "metadata": {},
   "outputs": [],
   "source": [
    "n_support = df_members[\"membership reason\"].str.count(\"support\")\n",
    "has_support = n_support >= 1"
   ]
  },
  {
   "cell_type": "code",
   "execution_count": null,
   "id": "lasting-grill",
   "metadata": {},
   "outputs": [],
   "source": [
    "df_members.loc[has_support,\"membership reason\"].sample(25).to_list()"
   ]
  },
  {
   "cell_type": "code",
   "execution_count": null,
   "id": "caring-maple",
   "metadata": {},
   "outputs": [],
   "source": [
    "# a few basic stats\n",
    "print(f\"Percentage of members mentioning \\\"map\\\": {np.round(100*sum(has_map)/df_members.shape[0],1)}%\")\n",
    "print(f\"Percentage of members mentioning \\\"support\\\": {np.round(100*sum(has_support)/df_members.shape[0],1)}%\")"
   ]
  },
  {
   "cell_type": "markdown",
   "id": "found-buffalo",
   "metadata": {},
   "source": [
    "__How often do the words map, resources, information, trip planning, ideas appear in the responses for why people use BCMT.org?__"
   ]
  },
  {
   "cell_type": "code",
   "execution_count": null,
   "id": "undefined-keyboard",
   "metadata": {},
   "outputs": [],
   "source": [
    "df.columns"
   ]
  },
  {
   "cell_type": "code",
   "execution_count": null,
   "id": "charitable-company",
   "metadata": {},
   "outputs": [],
   "source": [
    "print(\"Example of reasons why respondents used the BCMT website\")\n",
    "df[\"bcmt.org use reason\"].sample(20).to_list()"
   ]
  },
  {
   "cell_type": "markdown",
   "id": "vietnamese-sweet",
   "metadata": {},
   "source": [
    "__Create a series of masks representing which responses contain words of interest__"
   ]
  },
  {
   "cell_type": "code",
   "execution_count": null,
   "id": "equal-circle",
   "metadata": {},
   "outputs": [],
   "source": [
    "strs = [\"map\",\"resource\",\"info\",\"plan\",\"idea\"]\n",
    "\n",
    "uses = pd.Series(index=strs, dtype=float)\n",
    "uses.name = \"percent_responses\"\n",
    "for str in strs:\n",
    "    has_str = df[\"bcmt.org use reason\"].str.contains(str, case=False)\n",
    "    uses[str] = 100*has_str.sum()/has_str.shape[0]\n",
    "    print(f'Percentage of bcmt.org uses mentioning \"{str.title()}\": {np.round(100*has_str.sum()/has_str.shape[0],1)}%')"
   ]
  },
  {
   "cell_type": "code",
   "execution_count": null,
   "id": "moderate-panel",
   "metadata": {},
   "outputs": [],
   "source": [
    "uses.sort_values(ascending=True).plot.barh();\n",
    "plt.title(\"Reasons cited for using bcmt.org\")\n",
    "plt.xlabel(\"Percentage of responses containing string\");"
   ]
  },
  {
   "cell_type": "markdown",
   "id": "expensive-county",
   "metadata": {},
   "source": [
    "__How often do the words Google map, Windy, Navionics, Aquamaps, Tides, Current atlas, Gaia, Strava, Predict Wind, Garmin, and \"No\" appear in the responses for which mobile apps people use?__"
   ]
  },
  {
   "cell_type": "code",
   "execution_count": null,
   "id": "stuck-humidity",
   "metadata": {},
   "outputs": [],
   "source": [
    "df[\"mobile apps used\"].to_list()"
   ]
  },
  {
   "cell_type": "code",
   "execution_count": null,
   "id": "ancient-comparative",
   "metadata": {},
   "outputs": [],
   "source": [
    "strs = [\"google\",\"windy\",\"navionics\",\"aquamaps\",\"tides\",\"atlas\",\"gaia\",\"strava\",\"predict wind\",\"garmin\",\"no\",\"no answer provided\"]\n",
    "\n",
    "uses = pd.Series(index=strs, dtype=float)\n",
    "uses.name = \"percent_responses\"\n",
    "for str in strs:\n",
    "    has_str = df[\"mobile apps used\"].str.contains(str, case=False)\n",
    "    uses[str] = 100*has_str.sum()/has_str.shape[0]\n",
    "    print(f'Percentage of responses containing \"{str.title()}\": {np.round(100*has_str.sum()/has_str.shape[0],1)}%')"
   ]
  },
  {
   "cell_type": "code",
   "execution_count": null,
   "id": "straight-milwaukee",
   "metadata": {},
   "outputs": [],
   "source": [
    "# \"title-ize\" the app names\n",
    "uses.index = uses.index.str.title()"
   ]
  },
  {
   "cell_type": "code",
   "execution_count": null,
   "id": "desirable-adelaide",
   "metadata": {},
   "outputs": [],
   "source": [
    "uses.sort_values(ascending=True).plot.barh();\n",
    "plt.title(\"App names cited by survey respondents\")\n",
    "plt.xlabel(\"Percentage of responses containing string\");"
   ]
  }
 ],
 "metadata": {
  "hide_input": false,
  "kernelspec": {
   "display_name": "Python 3",
   "language": "python",
   "name": "python3"
  },
  "language_info": {
   "codemirror_mode": {
    "name": "ipython",
    "version": 3
   },
   "file_extension": ".py",
   "mimetype": "text/x-python",
   "name": "python",
   "nbconvert_exporter": "python",
   "pygments_lexer": "ipython3",
   "version": "3.8.5"
  },
  "toc": {
   "base_numbering": 1,
   "nav_menu": {},
   "number_sections": true,
   "sideBar": true,
   "skip_h1_title": false,
   "title_cell": "Table of Contents",
   "title_sidebar": "Contents",
   "toc_cell": false,
   "toc_position": {},
   "toc_section_display": true,
   "toc_window_display": false
  }
 },
 "nbformat": 4,
 "nbformat_minor": 5
}
