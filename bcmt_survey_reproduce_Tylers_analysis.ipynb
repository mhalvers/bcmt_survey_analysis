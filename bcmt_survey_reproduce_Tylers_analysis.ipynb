{
 "cells": [
  {
   "cell_type": "markdown",
   "id": "neural-mentor",
   "metadata": {},
   "source": [
    "The purpose of this notebook is to try to reproduce Tyler's analysis of the BCMT survey results.\n",
    "\n",
    "https://datastudio.google.com/u/0/reporting/1ac795dd-0656-4a17-acce-54a40ee8dfbe/page/O5PyB\n",
    "\n",
    "- Mark Halverson\n",
    "- February 12, 2012"
   ]
  },
  {
   "cell_type": "code",
   "execution_count": null,
   "id": "generic-rating",
   "metadata": {},
   "outputs": [],
   "source": [
    "import pandas as pd\n",
    "import numpy as np\n",
    "import matplotlib.pyplot as plt"
   ]
  },
  {
   "cell_type": "code",
   "execution_count": null,
   "id": "otherwise-porcelain",
   "metadata": {},
   "outputs": [],
   "source": [
    "df = pd.read_csv(\"Copy of BCMT Membership Survey (Responses) - Form Responses 1.csv\")"
   ]
  },
  {
   "cell_type": "code",
   "execution_count": null,
   "id": "wireless-coordination",
   "metadata": {},
   "outputs": [],
   "source": [
    "#df.head()"
   ]
  },
  {
   "cell_type": "code",
   "execution_count": null,
   "id": "exclusive-diabetes",
   "metadata": {},
   "outputs": [],
   "source": [
    "#df.columns.values"
   ]
  },
  {
   "cell_type": "code",
   "execution_count": null,
   "id": "breathing-wisdom",
   "metadata": {},
   "outputs": [],
   "source": [
    "old_labels = df.columns.values"
   ]
  },
  {
   "cell_type": "code",
   "execution_count": null,
   "id": "august-scratch",
   "metadata": {},
   "outputs": [],
   "source": [
    "new_labels = ['timestamp','activities','primary activity','years experience',\n",
    "              'activity frequency','activity duration','group size',\n",
    "              'membership duration','membership reason','have volunteered',\n",
    "              'volunteer activities','used bcmt map','bcmt map frequency',\n",
    "              'bcmt.org use reason','mobile apps used','submitted scr',\n",
    "              'scr report frequency','gender','age group','location','email']"
   ]
  },
  {
   "cell_type": "code",
   "execution_count": null,
   "id": "hundred-beatles",
   "metadata": {},
   "outputs": [],
   "source": [
    "df.rename(columns = dict(zip(old_labels,new_labels)), inplace=True)"
   ]
  },
  {
   "cell_type": "code",
   "execution_count": null,
   "id": "banner-terminology",
   "metadata": {},
   "outputs": [],
   "source": [
    "df.columns"
   ]
  },
  {
   "cell_type": "code",
   "execution_count": null,
   "id": "delayed-municipality",
   "metadata": {},
   "outputs": [],
   "source": [
    "# lower case the activities\n",
    "df[\"activities\"] = df[\"activities\"].str.lower()\n",
    "df[\"primary activity\"] = df[\"primary activity\"].str.lower()"
   ]
  },
  {
   "cell_type": "code",
   "execution_count": null,
   "id": "atlantic-thailand",
   "metadata": {},
   "outputs": [],
   "source": [
    "df[\"bcmt map frequency\"].unique()"
   ]
  },
  {
   "cell_type": "code",
   "execution_count": null,
   "id": "advance-benjamin",
   "metadata": {},
   "outputs": [],
   "source": [
    "# fill in missing values of map use frequency\n",
    "#df[\"bcmt map frequency\"].fillna(\"Never\", inplace=True)\n",
    "#df[\"bcmt map frequency\"]"
   ]
  },
  {
   "cell_type": "code",
   "execution_count": null,
   "id": "authentic-prototype",
   "metadata": {},
   "outputs": [],
   "source": [
    "is_member = ~df[\"membership duration\"].str.contains(\"not\")"
   ]
  },
  {
   "cell_type": "code",
   "execution_count": null,
   "id": "elementary-politics",
   "metadata": {},
   "outputs": [],
   "source": [
    "print(is_member.shape[0],\"survey respondents\")\n",
    "print(is_member.sum(),\"members\")"
   ]
  },
  {
   "cell_type": "code",
   "execution_count": null,
   "id": "american-career",
   "metadata": {},
   "outputs": [],
   "source": [
    "df[\"membership duration\"].value_counts(normalize=True).sort_values(ascending=False).round(3)*100"
   ]
  },
  {
   "cell_type": "code",
   "execution_count": null,
   "id": "liable-chick",
   "metadata": {},
   "outputs": [],
   "source": [
    "df[\"primary activity\"].value_counts(normalize=True).sort_values(ascending=False).round(3)*100"
   ]
  },
  {
   "cell_type": "code",
   "execution_count": null,
   "id": "naughty-dynamics",
   "metadata": {},
   "outputs": [],
   "source": [
    "df[\"age group\"].value_counts(normalize=True).sort_values(ascending=False).round(3)*100"
   ]
  },
  {
   "cell_type": "code",
   "execution_count": null,
   "id": "informative-present",
   "metadata": {},
   "outputs": [],
   "source": [
    "df.loc[is_member,\"submitted scr\"].value_counts(normalize=True).sort_values(ascending=False).round(3)*100"
   ]
  },
  {
   "cell_type": "code",
   "execution_count": null,
   "id": "multiple-matrix",
   "metadata": {},
   "outputs": [],
   "source": [
    "df.loc[is_member,\"used bcmt map\"].value_counts(normalize=True).sort_values(ascending=False).round(3)*100"
   ]
  },
  {
   "cell_type": "code",
   "execution_count": null,
   "id": "entertaining-ideal",
   "metadata": {},
   "outputs": [],
   "source": [
    "df.loc[is_member,\"primary activity\"].value_counts(normalize=True).sort_values(ascending=False).round(3)*100"
   ]
  },
  {
   "cell_type": "code",
   "execution_count": null,
   "id": "cutting-guyana",
   "metadata": {},
   "outputs": [],
   "source": [
    "df.loc[is_member,\"age group\"].value_counts(normalize=True).sort_values(ascending=False).round(3)*100"
   ]
  },
  {
   "cell_type": "code",
   "execution_count": null,
   "id": "recognized-morgan",
   "metadata": {},
   "outputs": [],
   "source": [
    "used_map = df[\"used bcmt map\"] == \"Yes\""
   ]
  },
  {
   "cell_type": "code",
   "execution_count": null,
   "id": "younger-equilibrium",
   "metadata": {},
   "outputs": [],
   "source": [
    "flag = is_member & used_map\n",
    "df.loc[flag,\"age group\"].value_counts(normalize=True).sort_values(ascending=False).round(3)*100"
   ]
  },
  {
   "cell_type": "code",
   "execution_count": null,
   "id": "hidden-isolation",
   "metadata": {},
   "outputs": [],
   "source": [
    "flag = ~(is_member) & used_map\n",
    "df.loc[flag,\"age group\"].value_counts(normalize=True).sort_values(ascending=False).round(3)*100"
   ]
  },
  {
   "cell_type": "code",
   "execution_count": null,
   "id": "identified-stuff",
   "metadata": {},
   "outputs": [],
   "source": [
    "df.loc[used_map,\"primary activity\"].value_counts(normalize=True).sort_values(ascending=False).round(3)*100"
   ]
  },
  {
   "cell_type": "code",
   "execution_count": null,
   "id": "communist-screening",
   "metadata": {},
   "outputs": [],
   "source": [
    "df[\"bcmt map frequency\"].value_counts()"
   ]
  },
  {
   "cell_type": "code",
   "execution_count": null,
   "id": "proud-imaging",
   "metadata": {},
   "outputs": [],
   "source": [
    "sometimes_plus = df[\"bcmt map frequency\"].isin([\"Sometimes\",\"Often\",\"Very Often\",\"Always\"])"
   ]
  },
  {
   "cell_type": "code",
   "execution_count": null,
   "id": "entertaining-concept",
   "metadata": {},
   "outputs": [],
   "source": [
    "df.loc[sometimes_plus,\"age group\"].value_counts(normalize=True).sort_values(ascending=False).round(3)*100"
   ]
  },
  {
   "cell_type": "code",
   "execution_count": null,
   "id": "exposed-genetics",
   "metadata": {},
   "outputs": [],
   "source": [
    "is_kayak = df[\"primary activity\"].str.contains(\"kayak\")"
   ]
  },
  {
   "cell_type": "code",
   "execution_count": null,
   "id": "orange-scanner",
   "metadata": {},
   "outputs": [],
   "source": [
    "df.loc[is_kayak,\"years experience\"].value_counts(normalize=True).sort_values(ascending=False).round(3)*100"
   ]
  },
  {
   "cell_type": "code",
   "execution_count": null,
   "id": "demographic-ordinance",
   "metadata": {},
   "outputs": [],
   "source": [
    "df.loc[is_kayak,\"activity duration\"].value_counts(normalize=True).sort_values(ascending=False).round(3)*100"
   ]
  },
  {
   "cell_type": "code",
   "execution_count": null,
   "id": "twenty-poland",
   "metadata": {},
   "outputs": [],
   "source": [
    "df.loc[is_kayak,\"group size\"].value_counts(normalize=True).sort_values(ascending=False).round(3)*100"
   ]
  },
  {
   "cell_type": "code",
   "execution_count": null,
   "id": "damaged-processing",
   "metadata": {},
   "outputs": [],
   "source": [
    "df.loc[is_kayak,\"activity frequency\"].value_counts(normalize=True).sort_values(ascending=False).round(3)*100"
   ]
  },
  {
   "cell_type": "code",
   "execution_count": null,
   "id": "hollow-paint",
   "metadata": {},
   "outputs": [],
   "source": [
    "df.groupby([\"activity duration\",\"age group\"])[\"timestamp\"].count()*100/df.shape[0]"
   ]
  },
  {
   "cell_type": "code",
   "execution_count": null,
   "id": "constitutional-design",
   "metadata": {},
   "outputs": [],
   "source": [
    "df[\"years experience\"].unique()"
   ]
  },
  {
   "cell_type": "code",
   "execution_count": null,
   "id": "classified-sperm",
   "metadata": {},
   "outputs": [],
   "source": [
    "nine_plus = df[\"years experience\"].str.contains(\"9\")"
   ]
  },
  {
   "cell_type": "code",
   "execution_count": null,
   "id": "optimum-choir",
   "metadata": {},
   "outputs": [],
   "source": [
    "df.loc[nine_plus,\"activity frequency\"].value_counts(normalize=True).sort_values(ascending=False).round(3)*100"
   ]
  },
  {
   "cell_type": "code",
   "execution_count": null,
   "id": "english-disposal",
   "metadata": {},
   "outputs": [],
   "source": [
    "df.loc[~nine_plus,\"activity frequency\"].value_counts(normalize=True).sort_values(ascending=False).round(3)*100"
   ]
  },
  {
   "cell_type": "code",
   "execution_count": null,
   "id": "occupied-acquisition",
   "metadata": {},
   "outputs": [],
   "source": [
    "df.loc[nine_plus,\"group size\"].value_counts(normalize=True).sort_values(ascending=False).round(3)*100"
   ]
  },
  {
   "cell_type": "code",
   "execution_count": null,
   "id": "executive-arctic",
   "metadata": {},
   "outputs": [],
   "source": [
    "df.loc[~nine_plus,\"group size\"].value_counts(normalize=True).sort_values(ascending=False).round(3)*100"
   ]
  },
  {
   "cell_type": "code",
   "execution_count": null,
   "id": "fatal-civilization",
   "metadata": {},
   "outputs": [],
   "source": [
    "df.loc[nine_plus,].groupby([\"activity duration\",\"age group\"])[\"timestamp\"].count()*100/sum(nine_plus)"
   ]
  },
  {
   "cell_type": "code",
   "execution_count": null,
   "id": "worthy-vacuum",
   "metadata": {
    "scrolled": true
   },
   "outputs": [],
   "source": [
    "df.loc[~nine_plus,].groupby([\"activity duration\",\"age group\"])[\"timestamp\"].count()*100/sum(~nine_plus)"
   ]
  },
  {
   "cell_type": "code",
   "execution_count": null,
   "id": "fixed-september",
   "metadata": {},
   "outputs": [],
   "source": [
    "df.loc[is_kayak,].groupby([\"submitted scr\",\"age group\"])[\"timestamp\"].count()*100/sum(is_kayak)"
   ]
  },
  {
   "cell_type": "code",
   "execution_count": null,
   "id": "excellent-fever",
   "metadata": {},
   "outputs": [],
   "source": [
    "mask = is_kayak & nine_plus\n",
    "df.loc[mask,].groupby([\"submitted scr\",\"age group\"])[\"timestamp\"].count()*100/sum(mask)"
   ]
  },
  {
   "cell_type": "code",
   "execution_count": null,
   "id": "expected-acoustic",
   "metadata": {},
   "outputs": [],
   "source": [
    "mask = is_kayak & ~nine_plus\n",
    "df.loc[mask,].groupby([\"submitted scr\",\"age group\"])[\"timestamp\"].count()*100/sum(mask)"
   ]
  },
  {
   "cell_type": "code",
   "execution_count": null,
   "id": "biological-surprise",
   "metadata": {},
   "outputs": [],
   "source": [
    "submitted_scr = df[\"submitted scr\"] == \"Yes\""
   ]
  },
  {
   "cell_type": "code",
   "execution_count": null,
   "id": "international-patient",
   "metadata": {},
   "outputs": [],
   "source": [
    "mask = is_kayak & submitted_scr\n",
    "df.loc[mask,\"activity duration\"].value_counts(normalize=True).sort_values(ascending=False).round(3)*100"
   ]
  },
  {
   "cell_type": "code",
   "execution_count": null,
   "id": "employed-tournament",
   "metadata": {},
   "outputs": [],
   "source": [
    "df[\"scr report frequency\"].value_counts()"
   ]
  },
  {
   "cell_type": "code",
   "execution_count": null,
   "id": "equipped-angle",
   "metadata": {},
   "outputs": [],
   "source": [
    "sometimes_plus = df[\"scr report frequency\"].isin([\"Sometimes\",\"Often\"])"
   ]
  },
  {
   "cell_type": "code",
   "execution_count": null,
   "id": "presidential-convertible",
   "metadata": {},
   "outputs": [],
   "source": [
    "mask = is_kayak & submitted_scr & sometimes_plus\n",
    "df.loc[mask,\"age group\"].value_counts(normalize=True).sort_values(ascending=False).round(3)*100"
   ]
  },
  {
   "cell_type": "code",
   "execution_count": null,
   "id": "happy-confidence",
   "metadata": {
    "scrolled": true
   },
   "outputs": [],
   "source": [
    "df.columns"
   ]
  },
  {
   "cell_type": "code",
   "execution_count": null,
   "id": "returning-barbados",
   "metadata": {},
   "outputs": [],
   "source": []
  }
 ],
 "metadata": {
  "hide_input": false,
  "kernelspec": {
   "display_name": "Python 3",
   "language": "python",
   "name": "python3"
  },
  "language_info": {
   "codemirror_mode": {
    "name": "ipython",
    "version": 3
   },
   "file_extension": ".py",
   "mimetype": "text/x-python",
   "name": "python",
   "nbconvert_exporter": "python",
   "pygments_lexer": "ipython3",
   "version": "3.8.5"
  },
  "toc": {
   "base_numbering": 1,
   "nav_menu": {},
   "number_sections": true,
   "sideBar": true,
   "skip_h1_title": false,
   "title_cell": "Table of Contents",
   "title_sidebar": "Contents",
   "toc_cell": false,
   "toc_position": {},
   "toc_section_display": true,
   "toc_window_display": false
  }
 },
 "nbformat": 4,
 "nbformat_minor": 5
}
