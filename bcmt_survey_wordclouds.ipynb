{
 "cells": [
  {
   "cell_type": "code",
   "execution_count": null,
   "id": "systematic-chain",
   "metadata": {},
   "outputs": [],
   "source": [
    "import pandas as pd\n",
    "import numpy as np\n",
    "import matplotlib.pyplot as plt\n",
    "from wordcloud import WordCloud, STOPWORDS\n",
    "from survey_utils.change_column_names import change_column_names"
   ]
  },
  {
   "cell_type": "code",
   "execution_count": null,
   "id": "reverse-local",
   "metadata": {},
   "outputs": [],
   "source": [
    "df = pd.read_csv(\"Copy of BCMT Membership Survey (Responses) - Form Responses 1.csv\")"
   ]
  },
  {
   "cell_type": "code",
   "execution_count": null,
   "id": "amazing-squad",
   "metadata": {},
   "outputs": [],
   "source": [
    "#df[\"What is your primary marine recreation activity?\"].value_counts()"
   ]
  },
  {
   "cell_type": "code",
   "execution_count": null,
   "id": "persistent-tsunami",
   "metadata": {},
   "outputs": [],
   "source": [
    "df = change_column_names(df)"
   ]
  },
  {
   "cell_type": "code",
   "execution_count": null,
   "id": "cross-forestry",
   "metadata": {},
   "outputs": [],
   "source": [
    "df.head()"
   ]
  },
  {
   "cell_type": "code",
   "execution_count": null,
   "id": "further-mining",
   "metadata": {},
   "outputs": [],
   "source": [
    "df[\"primary activity\"].value_counts()"
   ]
  },
  {
   "cell_type": "code",
   "execution_count": null,
   "id": "eleven-recognition",
   "metadata": {},
   "outputs": [],
   "source": [
    "# lower case the activities\n",
    "df[\"activities\"] = df[\"activities\"].str.lower()\n",
    "df[\"primary activity\"] = df[\"primary activity\"].str.lower()"
   ]
  },
  {
   "cell_type": "code",
   "execution_count": null,
   "id": "falling-austria",
   "metadata": {},
   "outputs": [],
   "source": [
    "#df[\"bcmt.org use reason\"].unique()"
   ]
  },
  {
   "cell_type": "code",
   "execution_count": null,
   "id": "responsible-referral",
   "metadata": {},
   "outputs": [],
   "source": [
    "df[\"membership reason\"] = df[\"membership reason\"].str.replace(\"camp site\", \"campsite\", regex=False)"
   ]
  },
  {
   "cell_type": "code",
   "execution_count": null,
   "id": "administrative-share",
   "metadata": {},
   "outputs": [],
   "source": [
    "df[\"membership reason\"].fillna(\"the\", inplace=True)\n",
    "df[\"bcmt.org use reason\"].fillna(\"the\", inplace=True)"
   ]
  },
  {
   "cell_type": "code",
   "execution_count": null,
   "id": "geographic-escape",
   "metadata": {},
   "outputs": [],
   "source": [
    "df[\"membership reason\"].head()"
   ]
  },
  {
   "cell_type": "code",
   "execution_count": null,
   "id": "stylish-muslim",
   "metadata": {},
   "outputs": [],
   "source": [
    "# concatenate the rows into a single string for the word cloud\n",
    "membership_reason = \" \".join(df[\"membership reason\"])\n",
    "website_use = \" \".join(df[\"bcmt.org use reason\"])"
   ]
  },
  {
   "cell_type": "code",
   "execution_count": null,
   "id": "understood-reminder",
   "metadata": {},
   "outputs": [],
   "source": [
    "membership_reason"
   ]
  },
  {
   "cell_type": "code",
   "execution_count": null,
   "id": "military-update",
   "metadata": {},
   "outputs": [],
   "source": [
    "#comment_words = '' \n",
    "stopwords = set(STOPWORDS) "
   ]
  },
  {
   "cell_type": "code",
   "execution_count": null,
   "id": "juvenile-packing",
   "metadata": {},
   "outputs": [],
   "source": [
    "stopwords"
   ]
  },
  {
   "cell_type": "code",
   "execution_count": null,
   "id": "micro-kennedy",
   "metadata": {},
   "outputs": [],
   "source": [
    "#stopwords.add()"
   ]
  },
  {
   "cell_type": "code",
   "execution_count": null,
   "id": "settled-rental",
   "metadata": {},
   "outputs": [],
   "source": [
    "wordcloud = WordCloud(max_font_size=60, stopwords=stopwords, \n",
    "                      background_color=\"white\", max_words=50)\n",
    "wordcloud.generate(membership_reason);"
   ]
  },
  {
   "cell_type": "code",
   "execution_count": null,
   "id": "british-correction",
   "metadata": {},
   "outputs": [],
   "source": [
    "plt.figure(figsize=(12,8));\n",
    "plt.title(\"Reasons cited for BCMT membership\", size=30)\n",
    "plt.imshow(wordcloud, interpolation='bilinear');\n",
    "plt.axis(\"off\");"
   ]
  },
  {
   "cell_type": "code",
   "execution_count": null,
   "id": "clean-exposure",
   "metadata": {},
   "outputs": [],
   "source": [
    "wordcloud = WordCloud(max_font_size=60, stopwords=stopwords, \n",
    "                      background_color=\"white\", max_words=50)\n",
    "wordcloud.generate(website_use);"
   ]
  },
  {
   "cell_type": "code",
   "execution_count": null,
   "id": "prescription-colon",
   "metadata": {},
   "outputs": [],
   "source": [
    "plt.figure(figsize=(12,8));\n",
    "plt.title(\"Reasons cited for visiting BCMT website\", size=30)\n",
    "plt.imshow(wordcloud, interpolation='bilinear');\n",
    "plt.axis(\"off\");"
   ]
  },
  {
   "cell_type": "code",
   "execution_count": null,
   "id": "provincial-product",
   "metadata": {},
   "outputs": [],
   "source": []
  }
 ],
 "metadata": {
  "hide_input": false,
  "kernelspec": {
   "display_name": "Python 3",
   "language": "python",
   "name": "python3"
  },
  "language_info": {
   "codemirror_mode": {
    "name": "ipython",
    "version": 3
   },
   "file_extension": ".py",
   "mimetype": "text/x-python",
   "name": "python",
   "nbconvert_exporter": "python",
   "pygments_lexer": "ipython3",
   "version": "3.8.5"
  },
  "toc": {
   "base_numbering": 1,
   "nav_menu": {},
   "number_sections": true,
   "sideBar": true,
   "skip_h1_title": false,
   "title_cell": "Table of Contents",
   "title_sidebar": "Contents",
   "toc_cell": false,
   "toc_position": {},
   "toc_section_display": true,
   "toc_window_display": false
  }
 },
 "nbformat": 4,
 "nbformat_minor": 5
}
