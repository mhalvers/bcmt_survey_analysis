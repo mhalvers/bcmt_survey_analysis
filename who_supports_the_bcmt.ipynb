{
 "cells": [
  {
   "cell_type": "markdown",
   "id": "tropical-cannon",
   "metadata": {},
   "source": [
    "The purpose of this notebook is to answer the questions put forth here:\n",
    "\n",
    "https://docs.google.com/document/d/1Tu8-XHeOP9LHn6BmkOEHk__p1JaFNdb6jCw2UQc-vA8/edit\n",
    "\n",
    "- Mark Halverson\n",
    "- Last updated: March 16, 2021"
   ]
  },
  {
   "cell_type": "code",
   "execution_count": null,
   "id": "qualified-skating",
   "metadata": {},
   "outputs": [],
   "source": [
    "import pandas as pd\n",
    "import numpy as np\n",
    "import matplotlib.pyplot as plt\n",
    "from survey_utils.change_column_names import change_column_names"
   ]
  },
  {
   "cell_type": "code",
   "execution_count": null,
   "id": "political-plaza",
   "metadata": {},
   "outputs": [],
   "source": [
    "df = pd.read_csv(\"data/BCMT Membership Survey Anonymized Responses.csv\")"
   ]
  },
  {
   "cell_type": "code",
   "execution_count": null,
   "id": "mature-unknown",
   "metadata": {},
   "outputs": [],
   "source": [
    "df = change_column_names(df)"
   ]
  },
  {
   "cell_type": "code",
   "execution_count": null,
   "id": "comfortable-victim",
   "metadata": {},
   "outputs": [],
   "source": [
    "# print out the column names\n",
    "#df.columns"
   ]
  },
  {
   "cell_type": "markdown",
   "id": "functional-silence",
   "metadata": {},
   "source": [
    "# Apply some string operations to fill gaps and ensure consistency in letter cases"
   ]
  },
  {
   "cell_type": "code",
   "execution_count": null,
   "id": "hidden-residence",
   "metadata": {},
   "outputs": [],
   "source": [
    "# trim white spaces on all text in df\n",
    "df = df.applymap(lambda x: x.strip() if isinstance(x, str) else x)"
   ]
  },
  {
   "cell_type": "code",
   "execution_count": null,
   "id": "literary-office",
   "metadata": {},
   "outputs": [],
   "source": [
    "# lower case some of the responses\n",
    "df[\"activities\"] = df[\"activities\"].str.lower()\n",
    "df[\"primary activity\"] = df[\"primary activity\"].str.lower()\n",
    "df[\"membership reason\"] = df[\"membership reason\"].str.lower()\n",
    "df[\"bcmt.org use reason\"] = df[\"bcmt.org use reason\"].str.lower()\n",
    "df[\"mobile apps used\"] = df[\"mobile apps used\"].str.lower()"
   ]
  },
  {
   "cell_type": "code",
   "execution_count": null,
   "id": "inside-update",
   "metadata": {},
   "outputs": [],
   "source": [
    "# gap fill\n",
    "print(f'Website use reason has {df[\"bcmt.org use reason\"].isna().sum()} null values')\n",
    "print(f'Mobile apps used has {df[\"mobile apps used\"].isna().sum()} null values')\n",
    "print(f'Membership reason has {df[\"membership reason\"].isna().sum()} null values')\n",
    "print(f'Location has {df[\"location\"].isna().sum()} null values')\n",
    "\n",
    "df[\"bcmt.org use reason\"].fillna(\"no answer provided\", inplace=True)\n",
    "df[\"mobile apps used\"].fillna(\"no answer provided\", inplace=True)\n",
    "df[\"membership reason\"].fillna(\"no answer provided\", inplace=True)\n",
    "df[\"location\"].fillna(\"no answer provided\", inplace=True)"
   ]
  },
  {
   "cell_type": "code",
   "execution_count": null,
   "id": "married-swift",
   "metadata": {},
   "outputs": [],
   "source": [
    "# fix up some compound words and spelling mistakes\n",
    "df[\"membership reason\"] = df[\"membership reason\"].str.replace(\"camp site\", \"campsite\", regex=False)\n",
    "df[\"bcmt.org use reason\"] = df[\"bcmt.org use reason\"].str.replace(\"kajak\", \"kayak\", regex=False)\n",
    "df[\"mobile apps used\"] = df[\"mobile apps used\"].str.replace(\"garmon\", \"garmin\", regex=False)"
   ]
  },
  {
   "cell_type": "code",
   "execution_count": null,
   "id": "practical-parallel",
   "metadata": {},
   "outputs": [],
   "source": [
    "# fix up Washington state place names\n",
    "matches = [\"Washington\",\"WA\",\"Olympic\"]\n",
    "matches = \"|\".join(matches)\n",
    "mask = df[\"location\"].str.contains(matches, regex=True)\n",
    "#df.loc[mask,\"location\"]\n",
    "df.loc[mask,\"location\"] = \"Washington State\""
   ]
  },
  {
   "cell_type": "code",
   "execution_count": null,
   "id": "powerful-tanzania",
   "metadata": {},
   "outputs": [],
   "source": [
    "# fix up Vancouver place names\n",
    "matches = [\"We lived in Vancouver|West Vancouver\"]\n",
    "matches = \"|\".join(matches)\n",
    "mask = df[\"location\"].str.contains(matches, regex=True)\n",
    "#df.loc[mask,\"location\"]\n",
    "df.loc[mask,\"location\"] = \"Vancouver Coast & Mountains\""
   ]
  },
  {
   "cell_type": "code",
   "execution_count": null,
   "id": "norman-indication",
   "metadata": {},
   "outputs": [],
   "source": [
    "# fix up Vancouver Island / Gulf Islands place names\n",
    "matches = [\"Salt Spring\"]\n",
    "matches = \"|\".join(matches)\n",
    "mask = df[\"location\"].str.contains(matches, regex=True)\n",
    "#df.loc[mask,\"location\"]\n",
    "df.loc[mask,\"location\"] = \"Vancouver Island\""
   ]
  },
  {
   "cell_type": "code",
   "execution_count": null,
   "id": "advance-christopher",
   "metadata": {},
   "outputs": [],
   "source": [
    "# fix up Vancouver Island / Gulf Islands place names\n",
    "matches = [\"Calgary\"]\n",
    "matches = \"|\".join(matches)\n",
    "mask = df[\"location\"].str.contains(matches, regex=True)\n",
    "#df.loc[mask,\"location\"]\n",
    "df.loc[mask,\"location\"] = \"Alberta\""
   ]
  },
  {
   "cell_type": "code",
   "execution_count": null,
   "id": "soviet-tuition",
   "metadata": {},
   "outputs": [],
   "source": [
    "# fix up Oregon place names\n",
    "matches = [\"Oregon\"]\n",
    "matches = \"|\".join(matches)\n",
    "mask = df[\"location\"].str.contains(matches, regex=True)\n",
    "#df.loc[mask,\"location\"]\n",
    "df.loc[mask,\"location\"] = \"Oregon\""
   ]
  },
  {
   "cell_type": "markdown",
   "id": "embedded-eleven",
   "metadata": {},
   "source": [
    "-------------------------------"
   ]
  },
  {
   "cell_type": "markdown",
   "id": "painted-salem",
   "metadata": {},
   "source": [
    "# What are the characteristics of the respondents to cite “support”, “contribute“, “help” as a membership reason?  "
   ]
  },
  {
   "cell_type": "code",
   "execution_count": null,
   "id": "intelligent-financing",
   "metadata": {},
   "outputs": [],
   "source": [
    "#df[\"membership reason\"].head(10).to_list()"
   ]
  },
  {
   "cell_type": "code",
   "execution_count": null,
   "id": "opponent-commonwealth",
   "metadata": {},
   "outputs": [],
   "source": [
    "matches = [\"support\",\"contribute\",\"help\"]\n",
    "matches = \"|\".join(matches)\n",
    "matches"
   ]
  },
  {
   "cell_type": "code",
   "execution_count": null,
   "id": "crude-panic",
   "metadata": {},
   "outputs": [],
   "source": [
    "mask = df[\"membership reason\"].str.contains(matches, regex=True)\n",
    "mask.sum()"
   ]
  },
  {
   "cell_type": "code",
   "execution_count": null,
   "id": "final-joining",
   "metadata": {},
   "outputs": [],
   "source": [
    "df_support = df.loc[mask]"
   ]
  },
  {
   "cell_type": "markdown",
   "id": "boxed-preliminary",
   "metadata": {},
   "source": [
    "## supports broken down by single category"
   ]
  },
  {
   "cell_type": "code",
   "execution_count": null,
   "id": "heavy-cannon",
   "metadata": {},
   "outputs": [],
   "source": [
    "df.columns"
   ]
  },
  {
   "cell_type": "code",
   "execution_count": null,
   "id": "indie-tension",
   "metadata": {},
   "outputs": [],
   "source": [
    "cols = ['age group', 'membership duration','bcmt.org use reason',\n",
    "        'submitted scr','gender','location']"
   ]
  },
  {
   "cell_type": "code",
   "execution_count": null,
   "id": "prostate-quality",
   "metadata": {},
   "outputs": [],
   "source": [
    "df_dict = {}\n",
    "for col in cols:\n",
    "    df1 = df_support[col].value_counts()\n",
    "    df2 = df[col].value_counts()\n",
    "    the_df = pd.concat([df1, df2], axis=1)\n",
    "    the_df.columns = [\"supporters\",\"all members\"]\n",
    "    the_df[\"percent\"] = 100*df1/df2\n",
    "    the_df.fillna(0, inplace=True)\n",
    "    the_df[\"supporters\"] = the_df[\"supporters\"].astype(int)\n",
    "    df_dict[col] = the_df\n",
    "    print(col)\n",
    "    print(the_df, end=2*\"\\n\")"
   ]
  },
  {
   "cell_type": "code",
   "execution_count": null,
   "id": "indirect-action",
   "metadata": {},
   "outputs": [],
   "source": [
    "# trim down the bcmt.org use reason category\n",
    "df_dict[\"bcmt.org use reason\"] = df_dict[\"bcmt.org use reason\"].sort_values(by=\"supporters\", ascending=False).head(8)"
   ]
  },
  {
   "cell_type": "markdown",
   "id": "fifth-fighter",
   "metadata": {},
   "source": [
    "### now the plotting"
   ]
  },
  {
   "cell_type": "code",
   "execution_count": null,
   "id": "handmade-darkness",
   "metadata": {},
   "outputs": [],
   "source": [
    "fig, axs = plt.subplots(6,1, figsize=(12,40))\n",
    "#fig.suptitle('Vertically stacked subplots')\n",
    "\n",
    "for k, key in enumerate(df_dict):\n",
    "    \n",
    "    df_dict[key].sort_values(by=\"percent\", inplace=True)\n",
    "    \n",
    "    axs[k].barh(df_dict[key].index, df_dict[key][\"percent\"])\n",
    "    \n",
    "    axs[k].set_title(key, fontsize=14)\n",
    "    axs[k].set_xlabel(\"Percentage of respondents citing support\", fontsize=14)\n",
    "    axs[k].tick_params(axis='both', which='major', labelsize=14)\n",
    "    \n",
    "    # set up some labels for the bars:  \n",
    "    x = df_dict[key][\"percent\"].values\n",
    "    y = np.arange(0,len(x))\n",
    "    txt = df_dict[key][\"supporters\"].astype(str) + \"/\" + df_dict[key][\"all members\"].astype(str)\n",
    "    \n",
    "    axs[k].set_xlim(0,1.1*max(x))\n",
    "    \n",
    "    # now add label showing n_supporters and n_respondents\n",
    "    for j in range(0,len(x)): \n",
    "        axs[k].text(x[j] + 2, y[j], txt[j], color='black', fontweight='normal', va='center', fontsize=14)\n",
    "\n",
    "plt.tight_layout()\n",
    "\n",
    "plt.savefig(\"/Users/Mark/Desktop/who_supports_the_bcmt.png\",facecolor='w')\n",
    "!open ~/Desktop/who_supports_the_bcmt.png"
   ]
  },
  {
   "cell_type": "markdown",
   "id": "applied-terminal",
   "metadata": {},
   "source": [
    "## supporters broken down by age group and membership duration"
   ]
  },
  {
   "cell_type": "code",
   "execution_count": null,
   "id": "general-month",
   "metadata": {},
   "outputs": [],
   "source": [
    "n_support = df.loc[mask].groupby(by=[\"age group\",\"membership duration\"]).count()[\"timestamp\"].sort_values(ascending=False)\n",
    "n_support.name = \"number citing support\""
   ]
  },
  {
   "cell_type": "code",
   "execution_count": null,
   "id": "supposed-israel",
   "metadata": {},
   "outputs": [],
   "source": [
    "n_total = df.groupby(by=[\"age group\",\"membership duration\"]).count()[\"timestamp\"].sort_values(ascending=False)\n",
    "n_total.name = \"total number\""
   ]
  },
  {
   "cell_type": "code",
   "execution_count": null,
   "id": "involved-traffic",
   "metadata": {},
   "outputs": [],
   "source": [
    "support_df = pd.concat([n_support, n_total], axis=1)"
   ]
  },
  {
   "cell_type": "code",
   "execution_count": null,
   "id": "unable-heritage",
   "metadata": {},
   "outputs": [],
   "source": [
    "support_df[\"as_percent\"] = 100*n_support/n_total"
   ]
  },
  {
   "cell_type": "code",
   "execution_count": null,
   "id": "instant-theology",
   "metadata": {},
   "outputs": [],
   "source": [
    "support_df[\"as_percent\"] = support_df[\"as_percent\"].round(1)"
   ]
  },
  {
   "cell_type": "code",
   "execution_count": null,
   "id": "behind-congo",
   "metadata": {},
   "outputs": [],
   "source": [
    "support_df.fillna(0, inplace=True)"
   ]
  },
  {
   "cell_type": "code",
   "execution_count": null,
   "id": "signal-darkness",
   "metadata": {},
   "outputs": [],
   "source": [
    "support_df[\"number citing support\"] = support_df[\"number citing support\"].astype(int)"
   ]
  },
  {
   "cell_type": "code",
   "execution_count": null,
   "id": "dietary-tyler",
   "metadata": {},
   "outputs": [],
   "source": [
    "support_df"
   ]
  },
  {
   "cell_type": "code",
   "execution_count": null,
   "id": "informal-attention",
   "metadata": {},
   "outputs": [],
   "source": [
    "support_df[\"as_percent\"].sort_values().plot.barh(figsize=(10,10));"
   ]
  },
  {
   "cell_type": "code",
   "execution_count": null,
   "id": "legendary-salem",
   "metadata": {},
   "outputs": [],
   "source": [
    "new_df = support_df.groupby(\"age group\").sum()[[\"number citing support\",\"total number\"]]\n",
    "new_df[\"percentage\"] = np.round(100*new_df[\"number citing support\"]/new_df[\"total number\"],1)\n",
    "new_df"
   ]
  },
  {
   "cell_type": "code",
   "execution_count": null,
   "id": "downtown-brave",
   "metadata": {},
   "outputs": [],
   "source": [
    "support_df.groupby(\"membership duration\").sum()[[\"number citing support\",\"total number\"]]"
   ]
  },
  {
   "cell_type": "code",
   "execution_count": null,
   "id": "radical-glass",
   "metadata": {},
   "outputs": [],
   "source": [
    "df.loc[mask,\"age group\"].value_counts()/df[\"age group\"].value_counts()"
   ]
  }
 ],
 "metadata": {
  "hide_input": false,
  "kernelspec": {
   "display_name": "Python 3",
   "language": "python",
   "name": "python3"
  },
  "language_info": {
   "codemirror_mode": {
    "name": "ipython",
    "version": 3
   },
   "file_extension": ".py",
   "mimetype": "text/x-python",
   "name": "python",
   "nbconvert_exporter": "python",
   "pygments_lexer": "ipython3",
   "version": "3.8.8"
  },
  "toc": {
   "base_numbering": 1,
   "nav_menu": {},
   "number_sections": true,
   "sideBar": true,
   "skip_h1_title": false,
   "title_cell": "Table of Contents",
   "title_sidebar": "Contents",
   "toc_cell": false,
   "toc_position": {},
   "toc_section_display": true,
   "toc_window_display": false
  }
 },
 "nbformat": 4,
 "nbformat_minor": 5
}
